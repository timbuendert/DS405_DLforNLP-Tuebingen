{
  "nbformat": 4,
  "nbformat_minor": 0,
  "metadata": {
    "colab": {
      "name": "assignment_4_Buendert_Tim.ipynb",
      "provenance": [],
      "collapsed_sections": [
        "gURMVVNkhskb",
        "OrAoqk-8m2pf",
        "HlJ2R5GBE36E",
        "3lwgpEUJGUcX",
        "CmP4YNR7fV2Q",
        "1lyUqMqrfZ5V",
        "13ad67cXNVOJ",
        "Qtcv4GnFGqkd",
        "9TRaxGJKGs3y",
        "T1cEOoEKGv0d",
        "vSPqn4SeGxkm"
      ],
      "machine_shape": "hm"
    },
    "kernelspec": {
      "name": "python3",
      "display_name": "Python 3"
    },
    "language_info": {
      "name": "python"
    },
    "accelerator": "GPU",
    "widgets": {
      "application/vnd.jupyter.widget-state+json": {
        "ead16a3f569448bbbe0f48ed6648502e": {
          "model_module": "@jupyter-widgets/controls",
          "model_name": "HBoxModel",
          "model_module_version": "1.5.0",
          "state": {
            "_view_name": "HBoxView",
            "_dom_classes": [],
            "_model_name": "HBoxModel",
            "_view_module": "@jupyter-widgets/controls",
            "_model_module_version": "1.5.0",
            "_view_count": null,
            "_view_module_version": "1.5.0",
            "box_style": "",
            "layout": "IPY_MODEL_f89dcd5f04a7468782d86b6ac4b1efb3",
            "_model_module": "@jupyter-widgets/controls",
            "children": [
              "IPY_MODEL_51ca735390d140ce9fa3f72620357e3a",
              "IPY_MODEL_50d1a8ee2d6f41539a00a1eb992c7eff",
              "IPY_MODEL_163c55e10d9543bb9bdac420562a3611"
            ]
          }
        },
        "f89dcd5f04a7468782d86b6ac4b1efb3": {
          "model_module": "@jupyter-widgets/base",
          "model_name": "LayoutModel",
          "model_module_version": "1.2.0",
          "state": {
            "_view_name": "LayoutView",
            "grid_template_rows": null,
            "right": null,
            "justify_content": null,
            "_view_module": "@jupyter-widgets/base",
            "overflow": null,
            "_model_module_version": "1.2.0",
            "_view_count": null,
            "flex_flow": null,
            "width": null,
            "min_width": null,
            "border": null,
            "align_items": null,
            "bottom": null,
            "_model_module": "@jupyter-widgets/base",
            "top": null,
            "grid_column": null,
            "overflow_y": null,
            "overflow_x": null,
            "grid_auto_flow": null,
            "grid_area": null,
            "grid_template_columns": null,
            "flex": null,
            "_model_name": "LayoutModel",
            "justify_items": null,
            "grid_row": null,
            "max_height": null,
            "align_content": null,
            "visibility": null,
            "align_self": null,
            "height": null,
            "min_height": null,
            "padding": null,
            "grid_auto_rows": null,
            "grid_gap": null,
            "max_width": null,
            "order": null,
            "_view_module_version": "1.2.0",
            "grid_template_areas": null,
            "object_position": null,
            "object_fit": null,
            "grid_auto_columns": null,
            "margin": null,
            "display": null,
            "left": null
          }
        },
        "51ca735390d140ce9fa3f72620357e3a": {
          "model_module": "@jupyter-widgets/controls",
          "model_name": "HTMLModel",
          "model_module_version": "1.5.0",
          "state": {
            "_view_name": "HTMLView",
            "style": "IPY_MODEL_6ef6f993397a4be5961474923b90a5db",
            "_dom_classes": [],
            "description": "",
            "_model_name": "HTMLModel",
            "placeholder": "​",
            "_view_module": "@jupyter-widgets/controls",
            "_model_module_version": "1.5.0",
            "value": "100%",
            "_view_count": null,
            "_view_module_version": "1.5.0",
            "description_tooltip": null,
            "_model_module": "@jupyter-widgets/controls",
            "layout": "IPY_MODEL_f9b94abed743436caeca32f83023065b"
          }
        },
        "50d1a8ee2d6f41539a00a1eb992c7eff": {
          "model_module": "@jupyter-widgets/controls",
          "model_name": "FloatProgressModel",
          "model_module_version": "1.5.0",
          "state": {
            "_view_name": "ProgressView",
            "style": "IPY_MODEL_6fe46570e3e44e4ea7b7aa4ef7191f48",
            "_dom_classes": [],
            "description": "",
            "_model_name": "FloatProgressModel",
            "bar_style": "success",
            "max": 3,
            "_view_module": "@jupyter-widgets/controls",
            "_model_module_version": "1.5.0",
            "value": 3,
            "_view_count": null,
            "_view_module_version": "1.5.0",
            "orientation": "horizontal",
            "min": 0,
            "description_tooltip": null,
            "_model_module": "@jupyter-widgets/controls",
            "layout": "IPY_MODEL_54f8198f68314306b561051772938820"
          }
        },
        "163c55e10d9543bb9bdac420562a3611": {
          "model_module": "@jupyter-widgets/controls",
          "model_name": "HTMLModel",
          "model_module_version": "1.5.0",
          "state": {
            "_view_name": "HTMLView",
            "style": "IPY_MODEL_5966509d136e47f7940c0924cfe9297f",
            "_dom_classes": [],
            "description": "",
            "_model_name": "HTMLModel",
            "placeholder": "​",
            "_view_module": "@jupyter-widgets/controls",
            "_model_module_version": "1.5.0",
            "value": " 3/3 [00:00&lt;00:00, 75.32it/s]",
            "_view_count": null,
            "_view_module_version": "1.5.0",
            "description_tooltip": null,
            "_model_module": "@jupyter-widgets/controls",
            "layout": "IPY_MODEL_69e6061e9b894840a1f50cff869b4d10"
          }
        },
        "6ef6f993397a4be5961474923b90a5db": {
          "model_module": "@jupyter-widgets/controls",
          "model_name": "DescriptionStyleModel",
          "model_module_version": "1.5.0",
          "state": {
            "_view_name": "StyleView",
            "_model_name": "DescriptionStyleModel",
            "description_width": "",
            "_view_module": "@jupyter-widgets/base",
            "_model_module_version": "1.5.0",
            "_view_count": null,
            "_view_module_version": "1.2.0",
            "_model_module": "@jupyter-widgets/controls"
          }
        },
        "f9b94abed743436caeca32f83023065b": {
          "model_module": "@jupyter-widgets/base",
          "model_name": "LayoutModel",
          "model_module_version": "1.2.0",
          "state": {
            "_view_name": "LayoutView",
            "grid_template_rows": null,
            "right": null,
            "justify_content": null,
            "_view_module": "@jupyter-widgets/base",
            "overflow": null,
            "_model_module_version": "1.2.0",
            "_view_count": null,
            "flex_flow": null,
            "width": null,
            "min_width": null,
            "border": null,
            "align_items": null,
            "bottom": null,
            "_model_module": "@jupyter-widgets/base",
            "top": null,
            "grid_column": null,
            "overflow_y": null,
            "overflow_x": null,
            "grid_auto_flow": null,
            "grid_area": null,
            "grid_template_columns": null,
            "flex": null,
            "_model_name": "LayoutModel",
            "justify_items": null,
            "grid_row": null,
            "max_height": null,
            "align_content": null,
            "visibility": null,
            "align_self": null,
            "height": null,
            "min_height": null,
            "padding": null,
            "grid_auto_rows": null,
            "grid_gap": null,
            "max_width": null,
            "order": null,
            "_view_module_version": "1.2.0",
            "grid_template_areas": null,
            "object_position": null,
            "object_fit": null,
            "grid_auto_columns": null,
            "margin": null,
            "display": null,
            "left": null
          }
        },
        "6fe46570e3e44e4ea7b7aa4ef7191f48": {
          "model_module": "@jupyter-widgets/controls",
          "model_name": "ProgressStyleModel",
          "model_module_version": "1.5.0",
          "state": {
            "_view_name": "StyleView",
            "_model_name": "ProgressStyleModel",
            "description_width": "",
            "_view_module": "@jupyter-widgets/base",
            "_model_module_version": "1.5.0",
            "_view_count": null,
            "_view_module_version": "1.2.0",
            "bar_color": null,
            "_model_module": "@jupyter-widgets/controls"
          }
        },
        "54f8198f68314306b561051772938820": {
          "model_module": "@jupyter-widgets/base",
          "model_name": "LayoutModel",
          "model_module_version": "1.2.0",
          "state": {
            "_view_name": "LayoutView",
            "grid_template_rows": null,
            "right": null,
            "justify_content": null,
            "_view_module": "@jupyter-widgets/base",
            "overflow": null,
            "_model_module_version": "1.2.0",
            "_view_count": null,
            "flex_flow": null,
            "width": null,
            "min_width": null,
            "border": null,
            "align_items": null,
            "bottom": null,
            "_model_module": "@jupyter-widgets/base",
            "top": null,
            "grid_column": null,
            "overflow_y": null,
            "overflow_x": null,
            "grid_auto_flow": null,
            "grid_area": null,
            "grid_template_columns": null,
            "flex": null,
            "_model_name": "LayoutModel",
            "justify_items": null,
            "grid_row": null,
            "max_height": null,
            "align_content": null,
            "visibility": null,
            "align_self": null,
            "height": null,
            "min_height": null,
            "padding": null,
            "grid_auto_rows": null,
            "grid_gap": null,
            "max_width": null,
            "order": null,
            "_view_module_version": "1.2.0",
            "grid_template_areas": null,
            "object_position": null,
            "object_fit": null,
            "grid_auto_columns": null,
            "margin": null,
            "display": null,
            "left": null
          }
        },
        "5966509d136e47f7940c0924cfe9297f": {
          "model_module": "@jupyter-widgets/controls",
          "model_name": "DescriptionStyleModel",
          "model_module_version": "1.5.0",
          "state": {
            "_view_name": "StyleView",
            "_model_name": "DescriptionStyleModel",
            "description_width": "",
            "_view_module": "@jupyter-widgets/base",
            "_model_module_version": "1.5.0",
            "_view_count": null,
            "_view_module_version": "1.2.0",
            "_model_module": "@jupyter-widgets/controls"
          }
        },
        "69e6061e9b894840a1f50cff869b4d10": {
          "model_module": "@jupyter-widgets/base",
          "model_name": "LayoutModel",
          "model_module_version": "1.2.0",
          "state": {
            "_view_name": "LayoutView",
            "grid_template_rows": null,
            "right": null,
            "justify_content": null,
            "_view_module": "@jupyter-widgets/base",
            "overflow": null,
            "_model_module_version": "1.2.0",
            "_view_count": null,
            "flex_flow": null,
            "width": null,
            "min_width": null,
            "border": null,
            "align_items": null,
            "bottom": null,
            "_model_module": "@jupyter-widgets/base",
            "top": null,
            "grid_column": null,
            "overflow_y": null,
            "overflow_x": null,
            "grid_auto_flow": null,
            "grid_area": null,
            "grid_template_columns": null,
            "flex": null,
            "_model_name": "LayoutModel",
            "justify_items": null,
            "grid_row": null,
            "max_height": null,
            "align_content": null,
            "visibility": null,
            "align_self": null,
            "height": null,
            "min_height": null,
            "padding": null,
            "grid_auto_rows": null,
            "grid_gap": null,
            "max_width": null,
            "order": null,
            "_view_module_version": "1.2.0",
            "grid_template_areas": null,
            "object_position": null,
            "object_fit": null,
            "grid_auto_columns": null,
            "margin": null,
            "display": null,
            "left": null
          }
        },
        "174bb7242d0a462e94cc8ac3e649b6cc": {
          "model_module": "@jupyter-widgets/controls",
          "model_name": "HBoxModel",
          "model_module_version": "1.5.0",
          "state": {
            "_view_name": "HBoxView",
            "_dom_classes": [],
            "_model_name": "HBoxModel",
            "_view_module": "@jupyter-widgets/controls",
            "_model_module_version": "1.5.0",
            "_view_count": null,
            "_view_module_version": "1.5.0",
            "box_style": "",
            "layout": "IPY_MODEL_bc5d5f3ad756422c94363795df3d8c1c",
            "_model_module": "@jupyter-widgets/controls",
            "children": [
              "IPY_MODEL_71609c2115564e65852825cbcd6bdcfa",
              "IPY_MODEL_b87a0c39991a48279aa46486040ca6ec",
              "IPY_MODEL_e41cf62971064434a24690b32a780edf"
            ]
          }
        },
        "bc5d5f3ad756422c94363795df3d8c1c": {
          "model_module": "@jupyter-widgets/base",
          "model_name": "LayoutModel",
          "model_module_version": "1.2.0",
          "state": {
            "_view_name": "LayoutView",
            "grid_template_rows": null,
            "right": null,
            "justify_content": null,
            "_view_module": "@jupyter-widgets/base",
            "overflow": null,
            "_model_module_version": "1.2.0",
            "_view_count": null,
            "flex_flow": null,
            "width": null,
            "min_width": null,
            "border": null,
            "align_items": null,
            "bottom": null,
            "_model_module": "@jupyter-widgets/base",
            "top": null,
            "grid_column": null,
            "overflow_y": null,
            "overflow_x": null,
            "grid_auto_flow": null,
            "grid_area": null,
            "grid_template_columns": null,
            "flex": null,
            "_model_name": "LayoutModel",
            "justify_items": null,
            "grid_row": null,
            "max_height": null,
            "align_content": null,
            "visibility": null,
            "align_self": null,
            "height": null,
            "min_height": null,
            "padding": null,
            "grid_auto_rows": null,
            "grid_gap": null,
            "max_width": null,
            "order": null,
            "_view_module_version": "1.2.0",
            "grid_template_areas": null,
            "object_position": null,
            "object_fit": null,
            "grid_auto_columns": null,
            "margin": null,
            "display": null,
            "left": null
          }
        },
        "71609c2115564e65852825cbcd6bdcfa": {
          "model_module": "@jupyter-widgets/controls",
          "model_name": "HTMLModel",
          "model_module_version": "1.5.0",
          "state": {
            "_view_name": "HTMLView",
            "style": "IPY_MODEL_8c20cf2e9846451b9a7bb1f32d252909",
            "_dom_classes": [],
            "description": "",
            "_model_name": "HTMLModel",
            "placeholder": "​",
            "_view_module": "@jupyter-widgets/controls",
            "_model_module_version": "1.5.0",
            "value": "Epoch: 100%",
            "_view_count": null,
            "_view_module_version": "1.5.0",
            "description_tooltip": null,
            "_model_module": "@jupyter-widgets/controls",
            "layout": "IPY_MODEL_5f21e573c07d41768348500c1b5b90f4"
          }
        },
        "b87a0c39991a48279aa46486040ca6ec": {
          "model_module": "@jupyter-widgets/controls",
          "model_name": "FloatProgressModel",
          "model_module_version": "1.5.0",
          "state": {
            "_view_name": "ProgressView",
            "style": "IPY_MODEL_fe7b1884d3fb474aa41763eb5865a49e",
            "_dom_classes": [],
            "description": "",
            "_model_name": "FloatProgressModel",
            "bar_style": "success",
            "max": 1,
            "_view_module": "@jupyter-widgets/controls",
            "_model_module_version": "1.5.0",
            "value": 1,
            "_view_count": null,
            "_view_module_version": "1.5.0",
            "orientation": "horizontal",
            "min": 0,
            "description_tooltip": null,
            "_model_module": "@jupyter-widgets/controls",
            "layout": "IPY_MODEL_3006db562a9d435ba01c9fe9e3cec473"
          }
        },
        "e41cf62971064434a24690b32a780edf": {
          "model_module": "@jupyter-widgets/controls",
          "model_name": "HTMLModel",
          "model_module_version": "1.5.0",
          "state": {
            "_view_name": "HTMLView",
            "style": "IPY_MODEL_a5eb23db605145fba191a8bce49b7c1e",
            "_dom_classes": [],
            "description": "",
            "_model_name": "HTMLModel",
            "placeholder": "​",
            "_view_module": "@jupyter-widgets/controls",
            "_model_module_version": "1.5.0",
            "value": " 1/1 [12:10&lt;00:00, 730.70s/it]",
            "_view_count": null,
            "_view_module_version": "1.5.0",
            "description_tooltip": null,
            "_model_module": "@jupyter-widgets/controls",
            "layout": "IPY_MODEL_a1eec3be7dab472f94786a7077592d3d"
          }
        },
        "8c20cf2e9846451b9a7bb1f32d252909": {
          "model_module": "@jupyter-widgets/controls",
          "model_name": "DescriptionStyleModel",
          "model_module_version": "1.5.0",
          "state": {
            "_view_name": "StyleView",
            "_model_name": "DescriptionStyleModel",
            "description_width": "",
            "_view_module": "@jupyter-widgets/base",
            "_model_module_version": "1.5.0",
            "_view_count": null,
            "_view_module_version": "1.2.0",
            "_model_module": "@jupyter-widgets/controls"
          }
        },
        "5f21e573c07d41768348500c1b5b90f4": {
          "model_module": "@jupyter-widgets/base",
          "model_name": "LayoutModel",
          "model_module_version": "1.2.0",
          "state": {
            "_view_name": "LayoutView",
            "grid_template_rows": null,
            "right": null,
            "justify_content": null,
            "_view_module": "@jupyter-widgets/base",
            "overflow": null,
            "_model_module_version": "1.2.0",
            "_view_count": null,
            "flex_flow": null,
            "width": null,
            "min_width": null,
            "border": null,
            "align_items": null,
            "bottom": null,
            "_model_module": "@jupyter-widgets/base",
            "top": null,
            "grid_column": null,
            "overflow_y": null,
            "overflow_x": null,
            "grid_auto_flow": null,
            "grid_area": null,
            "grid_template_columns": null,
            "flex": null,
            "_model_name": "LayoutModel",
            "justify_items": null,
            "grid_row": null,
            "max_height": null,
            "align_content": null,
            "visibility": null,
            "align_self": null,
            "height": null,
            "min_height": null,
            "padding": null,
            "grid_auto_rows": null,
            "grid_gap": null,
            "max_width": null,
            "order": null,
            "_view_module_version": "1.2.0",
            "grid_template_areas": null,
            "object_position": null,
            "object_fit": null,
            "grid_auto_columns": null,
            "margin": null,
            "display": null,
            "left": null
          }
        },
        "fe7b1884d3fb474aa41763eb5865a49e": {
          "model_module": "@jupyter-widgets/controls",
          "model_name": "ProgressStyleModel",
          "model_module_version": "1.5.0",
          "state": {
            "_view_name": "StyleView",
            "_model_name": "ProgressStyleModel",
            "description_width": "",
            "_view_module": "@jupyter-widgets/base",
            "_model_module_version": "1.5.0",
            "_view_count": null,
            "_view_module_version": "1.2.0",
            "bar_color": null,
            "_model_module": "@jupyter-widgets/controls"
          }
        },
        "3006db562a9d435ba01c9fe9e3cec473": {
          "model_module": "@jupyter-widgets/base",
          "model_name": "LayoutModel",
          "model_module_version": "1.2.0",
          "state": {
            "_view_name": "LayoutView",
            "grid_template_rows": null,
            "right": null,
            "justify_content": null,
            "_view_module": "@jupyter-widgets/base",
            "overflow": null,
            "_model_module_version": "1.2.0",
            "_view_count": null,
            "flex_flow": null,
            "width": null,
            "min_width": null,
            "border": null,
            "align_items": null,
            "bottom": null,
            "_model_module": "@jupyter-widgets/base",
            "top": null,
            "grid_column": null,
            "overflow_y": null,
            "overflow_x": null,
            "grid_auto_flow": null,
            "grid_area": null,
            "grid_template_columns": null,
            "flex": null,
            "_model_name": "LayoutModel",
            "justify_items": null,
            "grid_row": null,
            "max_height": null,
            "align_content": null,
            "visibility": null,
            "align_self": null,
            "height": null,
            "min_height": null,
            "padding": null,
            "grid_auto_rows": null,
            "grid_gap": null,
            "max_width": null,
            "order": null,
            "_view_module_version": "1.2.0",
            "grid_template_areas": null,
            "object_position": null,
            "object_fit": null,
            "grid_auto_columns": null,
            "margin": null,
            "display": null,
            "left": null
          }
        },
        "a5eb23db605145fba191a8bce49b7c1e": {
          "model_module": "@jupyter-widgets/controls",
          "model_name": "DescriptionStyleModel",
          "model_module_version": "1.5.0",
          "state": {
            "_view_name": "StyleView",
            "_model_name": "DescriptionStyleModel",
            "description_width": "",
            "_view_module": "@jupyter-widgets/base",
            "_model_module_version": "1.5.0",
            "_view_count": null,
            "_view_module_version": "1.2.0",
            "_model_module": "@jupyter-widgets/controls"
          }
        },
        "a1eec3be7dab472f94786a7077592d3d": {
          "model_module": "@jupyter-widgets/base",
          "model_name": "LayoutModel",
          "model_module_version": "1.2.0",
          "state": {
            "_view_name": "LayoutView",
            "grid_template_rows": null,
            "right": null,
            "justify_content": null,
            "_view_module": "@jupyter-widgets/base",
            "overflow": null,
            "_model_module_version": "1.2.0",
            "_view_count": null,
            "flex_flow": null,
            "width": null,
            "min_width": null,
            "border": null,
            "align_items": null,
            "bottom": null,
            "_model_module": "@jupyter-widgets/base",
            "top": null,
            "grid_column": null,
            "overflow_y": null,
            "overflow_x": null,
            "grid_auto_flow": null,
            "grid_area": null,
            "grid_template_columns": null,
            "flex": null,
            "_model_name": "LayoutModel",
            "justify_items": null,
            "grid_row": null,
            "max_height": null,
            "align_content": null,
            "visibility": null,
            "align_self": null,
            "height": null,
            "min_height": null,
            "padding": null,
            "grid_auto_rows": null,
            "grid_gap": null,
            "max_width": null,
            "order": null,
            "_view_module_version": "1.2.0",
            "grid_template_areas": null,
            "object_position": null,
            "object_fit": null,
            "grid_auto_columns": null,
            "margin": null,
            "display": null,
            "left": null
          }
        },
        "eaedf3ef86064c5ea7dc5a71da862c6a": {
          "model_module": "@jupyter-widgets/controls",
          "model_name": "HBoxModel",
          "model_module_version": "1.5.0",
          "state": {
            "_view_name": "HBoxView",
            "_dom_classes": [],
            "_model_name": "HBoxModel",
            "_view_module": "@jupyter-widgets/controls",
            "_model_module_version": "1.5.0",
            "_view_count": null,
            "_view_module_version": "1.5.0",
            "box_style": "",
            "layout": "IPY_MODEL_4ed83829f4504a0ea136a36893620ca8",
            "_model_module": "@jupyter-widgets/controls",
            "children": [
              "IPY_MODEL_22afcc6845a347dfa528b5400d85c342",
              "IPY_MODEL_0f83401be79a489c8c573f3c94e5a2e1",
              "IPY_MODEL_b69fd768c84442aba46a1a497440ee4f"
            ]
          }
        },
        "4ed83829f4504a0ea136a36893620ca8": {
          "model_module": "@jupyter-widgets/base",
          "model_name": "LayoutModel",
          "model_module_version": "1.2.0",
          "state": {
            "_view_name": "LayoutView",
            "grid_template_rows": null,
            "right": null,
            "justify_content": null,
            "_view_module": "@jupyter-widgets/base",
            "overflow": null,
            "_model_module_version": "1.2.0",
            "_view_count": null,
            "flex_flow": null,
            "width": null,
            "min_width": null,
            "border": null,
            "align_items": null,
            "bottom": null,
            "_model_module": "@jupyter-widgets/base",
            "top": null,
            "grid_column": null,
            "overflow_y": null,
            "overflow_x": null,
            "grid_auto_flow": null,
            "grid_area": null,
            "grid_template_columns": null,
            "flex": null,
            "_model_name": "LayoutModel",
            "justify_items": null,
            "grid_row": null,
            "max_height": null,
            "align_content": null,
            "visibility": null,
            "align_self": null,
            "height": null,
            "min_height": null,
            "padding": null,
            "grid_auto_rows": null,
            "grid_gap": null,
            "max_width": null,
            "order": null,
            "_view_module_version": "1.2.0",
            "grid_template_areas": null,
            "object_position": null,
            "object_fit": null,
            "grid_auto_columns": null,
            "margin": null,
            "display": null,
            "left": null
          }
        },
        "22afcc6845a347dfa528b5400d85c342": {
          "model_module": "@jupyter-widgets/controls",
          "model_name": "HTMLModel",
          "model_module_version": "1.5.0",
          "state": {
            "_view_name": "HTMLView",
            "style": "IPY_MODEL_3cdc90332b094e82a46f2e3ec6b07314",
            "_dom_classes": [],
            "description": "",
            "_model_name": "HTMLModel",
            "placeholder": "​",
            "_view_module": "@jupyter-widgets/controls",
            "_model_module_version": "1.5.0",
            "value": "Iteration: 100%",
            "_view_count": null,
            "_view_module_version": "1.5.0",
            "description_tooltip": null,
            "_model_module": "@jupyter-widgets/controls",
            "layout": "IPY_MODEL_010c89c0b8d24331962036a649dd45f8"
          }
        },
        "0f83401be79a489c8c573f3c94e5a2e1": {
          "model_module": "@jupyter-widgets/controls",
          "model_name": "FloatProgressModel",
          "model_module_version": "1.5.0",
          "state": {
            "_view_name": "ProgressView",
            "style": "IPY_MODEL_60147a6f88524989a074eab777810810",
            "_dom_classes": [],
            "description": "",
            "_model_name": "FloatProgressModel",
            "bar_style": "success",
            "max": 581,
            "_view_module": "@jupyter-widgets/controls",
            "_model_module_version": "1.5.0",
            "value": 581,
            "_view_count": null,
            "_view_module_version": "1.5.0",
            "orientation": "horizontal",
            "min": 0,
            "description_tooltip": null,
            "_model_module": "@jupyter-widgets/controls",
            "layout": "IPY_MODEL_d5684ecad78144cca0d2210eda7f82c5"
          }
        },
        "b69fd768c84442aba46a1a497440ee4f": {
          "model_module": "@jupyter-widgets/controls",
          "model_name": "HTMLModel",
          "model_module_version": "1.5.0",
          "state": {
            "_view_name": "HTMLView",
            "style": "IPY_MODEL_ca74e4a1e62545f98873fdd0b2e31942",
            "_dom_classes": [],
            "description": "",
            "_model_name": "HTMLModel",
            "placeholder": "​",
            "_view_module": "@jupyter-widgets/controls",
            "_model_module_version": "1.5.0",
            "value": " 581/581 [09:12&lt;00:00,  8.83s/it]",
            "_view_count": null,
            "_view_module_version": "1.5.0",
            "description_tooltip": null,
            "_model_module": "@jupyter-widgets/controls",
            "layout": "IPY_MODEL_3af99dc2952b4d59a8525ff0ccb0fd71"
          }
        },
        "3cdc90332b094e82a46f2e3ec6b07314": {
          "model_module": "@jupyter-widgets/controls",
          "model_name": "DescriptionStyleModel",
          "model_module_version": "1.5.0",
          "state": {
            "_view_name": "StyleView",
            "_model_name": "DescriptionStyleModel",
            "description_width": "",
            "_view_module": "@jupyter-widgets/base",
            "_model_module_version": "1.5.0",
            "_view_count": null,
            "_view_module_version": "1.2.0",
            "_model_module": "@jupyter-widgets/controls"
          }
        },
        "010c89c0b8d24331962036a649dd45f8": {
          "model_module": "@jupyter-widgets/base",
          "model_name": "LayoutModel",
          "model_module_version": "1.2.0",
          "state": {
            "_view_name": "LayoutView",
            "grid_template_rows": null,
            "right": null,
            "justify_content": null,
            "_view_module": "@jupyter-widgets/base",
            "overflow": null,
            "_model_module_version": "1.2.0",
            "_view_count": null,
            "flex_flow": null,
            "width": null,
            "min_width": null,
            "border": null,
            "align_items": null,
            "bottom": null,
            "_model_module": "@jupyter-widgets/base",
            "top": null,
            "grid_column": null,
            "overflow_y": null,
            "overflow_x": null,
            "grid_auto_flow": null,
            "grid_area": null,
            "grid_template_columns": null,
            "flex": null,
            "_model_name": "LayoutModel",
            "justify_items": null,
            "grid_row": null,
            "max_height": null,
            "align_content": null,
            "visibility": null,
            "align_self": null,
            "height": null,
            "min_height": null,
            "padding": null,
            "grid_auto_rows": null,
            "grid_gap": null,
            "max_width": null,
            "order": null,
            "_view_module_version": "1.2.0",
            "grid_template_areas": null,
            "object_position": null,
            "object_fit": null,
            "grid_auto_columns": null,
            "margin": null,
            "display": null,
            "left": null
          }
        },
        "60147a6f88524989a074eab777810810": {
          "model_module": "@jupyter-widgets/controls",
          "model_name": "ProgressStyleModel",
          "model_module_version": "1.5.0",
          "state": {
            "_view_name": "StyleView",
            "_model_name": "ProgressStyleModel",
            "description_width": "",
            "_view_module": "@jupyter-widgets/base",
            "_model_module_version": "1.5.0",
            "_view_count": null,
            "_view_module_version": "1.2.0",
            "bar_color": null,
            "_model_module": "@jupyter-widgets/controls"
          }
        },
        "d5684ecad78144cca0d2210eda7f82c5": {
          "model_module": "@jupyter-widgets/base",
          "model_name": "LayoutModel",
          "model_module_version": "1.2.0",
          "state": {
            "_view_name": "LayoutView",
            "grid_template_rows": null,
            "right": null,
            "justify_content": null,
            "_view_module": "@jupyter-widgets/base",
            "overflow": null,
            "_model_module_version": "1.2.0",
            "_view_count": null,
            "flex_flow": null,
            "width": null,
            "min_width": null,
            "border": null,
            "align_items": null,
            "bottom": null,
            "_model_module": "@jupyter-widgets/base",
            "top": null,
            "grid_column": null,
            "overflow_y": null,
            "overflow_x": null,
            "grid_auto_flow": null,
            "grid_area": null,
            "grid_template_columns": null,
            "flex": null,
            "_model_name": "LayoutModel",
            "justify_items": null,
            "grid_row": null,
            "max_height": null,
            "align_content": null,
            "visibility": null,
            "align_self": null,
            "height": null,
            "min_height": null,
            "padding": null,
            "grid_auto_rows": null,
            "grid_gap": null,
            "max_width": null,
            "order": null,
            "_view_module_version": "1.2.0",
            "grid_template_areas": null,
            "object_position": null,
            "object_fit": null,
            "grid_auto_columns": null,
            "margin": null,
            "display": null,
            "left": null
          }
        },
        "ca74e4a1e62545f98873fdd0b2e31942": {
          "model_module": "@jupyter-widgets/controls",
          "model_name": "DescriptionStyleModel",
          "model_module_version": "1.5.0",
          "state": {
            "_view_name": "StyleView",
            "_model_name": "DescriptionStyleModel",
            "description_width": "",
            "_view_module": "@jupyter-widgets/base",
            "_model_module_version": "1.5.0",
            "_view_count": null,
            "_view_module_version": "1.2.0",
            "_model_module": "@jupyter-widgets/controls"
          }
        },
        "3af99dc2952b4d59a8525ff0ccb0fd71": {
          "model_module": "@jupyter-widgets/base",
          "model_name": "LayoutModel",
          "model_module_version": "1.2.0",
          "state": {
            "_view_name": "LayoutView",
            "grid_template_rows": null,
            "right": null,
            "justify_content": null,
            "_view_module": "@jupyter-widgets/base",
            "overflow": null,
            "_model_module_version": "1.2.0",
            "_view_count": null,
            "flex_flow": null,
            "width": null,
            "min_width": null,
            "border": null,
            "align_items": null,
            "bottom": null,
            "_model_module": "@jupyter-widgets/base",
            "top": null,
            "grid_column": null,
            "overflow_y": null,
            "overflow_x": null,
            "grid_auto_flow": null,
            "grid_area": null,
            "grid_template_columns": null,
            "flex": null,
            "_model_name": "LayoutModel",
            "justify_items": null,
            "grid_row": null,
            "max_height": null,
            "align_content": null,
            "visibility": null,
            "align_self": null,
            "height": null,
            "min_height": null,
            "padding": null,
            "grid_auto_rows": null,
            "grid_gap": null,
            "max_width": null,
            "order": null,
            "_view_module_version": "1.2.0",
            "grid_template_areas": null,
            "object_position": null,
            "object_fit": null,
            "grid_auto_columns": null,
            "margin": null,
            "display": null,
            "left": null
          }
        }
      }
    }
  },
  "cells": [
    {
      "cell_type": "markdown",
      "metadata": {
        "id": "zRBuEx1wJGei"
      },
      "source": [
        "# Assignment 4: Practical Deep Learning for Language Processing (DS405B)\n",
        "submitted by Tim-Moritz Bündert (ID: 5635975) on February 12, 2022"
      ]
    },
    {
      "cell_type": "markdown",
      "source": [
        "## Setup"
      ],
      "metadata": {
        "id": "gURMVVNkhskb"
      }
    },
    {
      "cell_type": "code",
      "metadata": {
        "colab": {
          "base_uri": "https://localhost:8080/"
        },
        "id": "7kxQx34G5iy_",
        "outputId": "9dbf2d76-19b0-461e-ed3d-cafa7f128cf1"
      },
      "source": [
        "# mount drive\n",
        "from google.colab import drive\n",
        "drive.mount('/content/drive')"
      ],
      "execution_count": null,
      "outputs": [
        {
          "output_type": "stream",
          "name": "stdout",
          "text": [
            "Drive already mounted at /content/drive; to attempt to forcibly remount, call drive.mount(\"/content/drive\", force_remount=True).\n"
          ]
        }
      ]
    },
    {
      "cell_type": "code",
      "metadata": {
        "id": "bF9fd-2ELCYY"
      },
      "source": [
        "# set data directory\n",
        "data_dir = \"/content/drive/MyDrive/University/DS405B_PDL_for_LP/Assignment_4/\""
      ],
      "execution_count": null,
      "outputs": []
    },
    {
      "cell_type": "code",
      "source": [
        "!pip install sentence-transformers\n",
        "!pip install datasets"
      ],
      "metadata": {
        "id": "vfAe1ULCq9_s",
        "colab": {
          "base_uri": "https://localhost:8080/"
        },
        "outputId": "f9e1b2d0-7581-49d1-9267-21529d866f93"
      },
      "execution_count": null,
      "outputs": [
        {
          "output_type": "stream",
          "name": "stdout",
          "text": [
            "Requirement already satisfied: sentence-transformers in /usr/local/lib/python3.7/dist-packages (2.2.0)\n",
            "Requirement already satisfied: sentencepiece in /usr/local/lib/python3.7/dist-packages (from sentence-transformers) (0.1.96)\n",
            "Requirement already satisfied: transformers<5.0.0,>=4.6.0 in /usr/local/lib/python3.7/dist-packages (from sentence-transformers) (4.16.2)\n",
            "Requirement already satisfied: tqdm in /usr/local/lib/python3.7/dist-packages (from sentence-transformers) (4.62.3)\n",
            "Requirement already satisfied: nltk in /usr/local/lib/python3.7/dist-packages (from sentence-transformers) (3.2.5)\n",
            "Requirement already satisfied: torch>=1.6.0 in /usr/local/lib/python3.7/dist-packages (from sentence-transformers) (1.10.0+cu111)\n",
            "Requirement already satisfied: scipy in /usr/local/lib/python3.7/dist-packages (from sentence-transformers) (1.4.1)\n",
            "Requirement already satisfied: scikit-learn in /usr/local/lib/python3.7/dist-packages (from sentence-transformers) (1.0.2)\n",
            "Requirement already satisfied: torchvision in /usr/local/lib/python3.7/dist-packages (from sentence-transformers) (0.11.1+cu111)\n",
            "Requirement already satisfied: huggingface-hub in /usr/local/lib/python3.7/dist-packages (from sentence-transformers) (0.4.0)\n",
            "Requirement already satisfied: numpy in /usr/local/lib/python3.7/dist-packages (from sentence-transformers) (1.19.5)\n",
            "Requirement already satisfied: typing-extensions in /usr/local/lib/python3.7/dist-packages (from torch>=1.6.0->sentence-transformers) (3.10.0.2)\n",
            "Requirement already satisfied: importlib-metadata in /usr/local/lib/python3.7/dist-packages (from transformers<5.0.0,>=4.6.0->sentence-transformers) (4.10.1)\n",
            "Requirement already satisfied: packaging>=20.0 in /usr/local/lib/python3.7/dist-packages (from transformers<5.0.0,>=4.6.0->sentence-transformers) (21.3)\n",
            "Requirement already satisfied: regex!=2019.12.17 in /usr/local/lib/python3.7/dist-packages (from transformers<5.0.0,>=4.6.0->sentence-transformers) (2019.12.20)\n",
            "Requirement already satisfied: pyyaml>=5.1 in /usr/local/lib/python3.7/dist-packages (from transformers<5.0.0,>=4.6.0->sentence-transformers) (6.0)\n",
            "Requirement already satisfied: filelock in /usr/local/lib/python3.7/dist-packages (from transformers<5.0.0,>=4.6.0->sentence-transformers) (3.4.2)\n",
            "Requirement already satisfied: requests in /usr/local/lib/python3.7/dist-packages (from transformers<5.0.0,>=4.6.0->sentence-transformers) (2.23.0)\n",
            "Requirement already satisfied: sacremoses in /usr/local/lib/python3.7/dist-packages (from transformers<5.0.0,>=4.6.0->sentence-transformers) (0.0.47)\n",
            "Requirement already satisfied: tokenizers!=0.11.3,>=0.10.1 in /usr/local/lib/python3.7/dist-packages (from transformers<5.0.0,>=4.6.0->sentence-transformers) (0.11.4)\n",
            "Requirement already satisfied: pyparsing!=3.0.5,>=2.0.2 in /usr/local/lib/python3.7/dist-packages (from packaging>=20.0->transformers<5.0.0,>=4.6.0->sentence-transformers) (3.0.7)\n",
            "Requirement already satisfied: zipp>=0.5 in /usr/local/lib/python3.7/dist-packages (from importlib-metadata->transformers<5.0.0,>=4.6.0->sentence-transformers) (3.7.0)\n",
            "Requirement already satisfied: six in /usr/local/lib/python3.7/dist-packages (from nltk->sentence-transformers) (1.15.0)\n",
            "Requirement already satisfied: certifi>=2017.4.17 in /usr/local/lib/python3.7/dist-packages (from requests->transformers<5.0.0,>=4.6.0->sentence-transformers) (2021.10.8)\n",
            "Requirement already satisfied: chardet<4,>=3.0.2 in /usr/local/lib/python3.7/dist-packages (from requests->transformers<5.0.0,>=4.6.0->sentence-transformers) (3.0.4)\n",
            "Requirement already satisfied: urllib3!=1.25.0,!=1.25.1,<1.26,>=1.21.1 in /usr/local/lib/python3.7/dist-packages (from requests->transformers<5.0.0,>=4.6.0->sentence-transformers) (1.24.3)\n",
            "Requirement already satisfied: idna<3,>=2.5 in /usr/local/lib/python3.7/dist-packages (from requests->transformers<5.0.0,>=4.6.0->sentence-transformers) (2.10)\n",
            "Requirement already satisfied: click in /usr/local/lib/python3.7/dist-packages (from sacremoses->transformers<5.0.0,>=4.6.0->sentence-transformers) (7.1.2)\n",
            "Requirement already satisfied: joblib in /usr/local/lib/python3.7/dist-packages (from sacremoses->transformers<5.0.0,>=4.6.0->sentence-transformers) (1.1.0)\n",
            "Requirement already satisfied: threadpoolctl>=2.0.0 in /usr/local/lib/python3.7/dist-packages (from scikit-learn->sentence-transformers) (3.1.0)\n",
            "Requirement already satisfied: pillow!=8.3.0,>=5.3.0 in /usr/local/lib/python3.7/dist-packages (from torchvision->sentence-transformers) (7.1.2)\n",
            "Requirement already satisfied: datasets in /usr/local/lib/python3.7/dist-packages (1.18.3)\n",
            "Requirement already satisfied: dill in /usr/local/lib/python3.7/dist-packages (from datasets) (0.3.4)\n",
            "Requirement already satisfied: pandas in /usr/local/lib/python3.7/dist-packages (from datasets) (1.3.5)\n",
            "Requirement already satisfied: packaging in /usr/local/lib/python3.7/dist-packages (from datasets) (21.3)\n",
            "Requirement already satisfied: numpy>=1.17 in /usr/local/lib/python3.7/dist-packages (from datasets) (1.19.5)\n",
            "Requirement already satisfied: pyarrow!=4.0.0,>=3.0.0 in /usr/local/lib/python3.7/dist-packages (from datasets) (6.0.1)\n",
            "Requirement already satisfied: tqdm>=4.62.1 in /usr/local/lib/python3.7/dist-packages (from datasets) (4.62.3)\n",
            "Requirement already satisfied: xxhash in /usr/local/lib/python3.7/dist-packages (from datasets) (2.0.2)\n",
            "Requirement already satisfied: huggingface-hub<1.0.0,>=0.1.0 in /usr/local/lib/python3.7/dist-packages (from datasets) (0.4.0)\n",
            "Requirement already satisfied: fsspec[http]>=2021.05.0 in /usr/local/lib/python3.7/dist-packages (from datasets) (2022.1.0)\n",
            "Requirement already satisfied: importlib-metadata in /usr/local/lib/python3.7/dist-packages (from datasets) (4.10.1)\n",
            "Requirement already satisfied: requests>=2.19.0 in /usr/local/lib/python3.7/dist-packages (from datasets) (2.23.0)\n",
            "Requirement already satisfied: multiprocess in /usr/local/lib/python3.7/dist-packages (from datasets) (0.70.12.2)\n",
            "Requirement already satisfied: aiohttp in /usr/local/lib/python3.7/dist-packages (from datasets) (3.8.1)\n",
            "Requirement already satisfied: pyyaml in /usr/local/lib/python3.7/dist-packages (from huggingface-hub<1.0.0,>=0.1.0->datasets) (6.0)\n",
            "Requirement already satisfied: typing-extensions>=3.7.4.3 in /usr/local/lib/python3.7/dist-packages (from huggingface-hub<1.0.0,>=0.1.0->datasets) (3.10.0.2)\n",
            "Requirement already satisfied: filelock in /usr/local/lib/python3.7/dist-packages (from huggingface-hub<1.0.0,>=0.1.0->datasets) (3.4.2)\n",
            "Requirement already satisfied: pyparsing!=3.0.5,>=2.0.2 in /usr/local/lib/python3.7/dist-packages (from packaging->datasets) (3.0.7)\n",
            "Requirement already satisfied: certifi>=2017.4.17 in /usr/local/lib/python3.7/dist-packages (from requests>=2.19.0->datasets) (2021.10.8)\n",
            "Requirement already satisfied: chardet<4,>=3.0.2 in /usr/local/lib/python3.7/dist-packages (from requests>=2.19.0->datasets) (3.0.4)\n",
            "Requirement already satisfied: idna<3,>=2.5 in /usr/local/lib/python3.7/dist-packages (from requests>=2.19.0->datasets) (2.10)\n",
            "Requirement already satisfied: urllib3!=1.25.0,!=1.25.1,<1.26,>=1.21.1 in /usr/local/lib/python3.7/dist-packages (from requests>=2.19.0->datasets) (1.24.3)\n",
            "Requirement already satisfied: charset-normalizer<3.0,>=2.0 in /usr/local/lib/python3.7/dist-packages (from aiohttp->datasets) (2.0.11)\n",
            "Requirement already satisfied: multidict<7.0,>=4.5 in /usr/local/lib/python3.7/dist-packages (from aiohttp->datasets) (6.0.2)\n",
            "Requirement already satisfied: aiosignal>=1.1.2 in /usr/local/lib/python3.7/dist-packages (from aiohttp->datasets) (1.2.0)\n",
            "Requirement already satisfied: yarl<2.0,>=1.0 in /usr/local/lib/python3.7/dist-packages (from aiohttp->datasets) (1.7.2)\n",
            "Requirement already satisfied: async-timeout<5.0,>=4.0.0a3 in /usr/local/lib/python3.7/dist-packages (from aiohttp->datasets) (4.0.2)\n",
            "Requirement already satisfied: asynctest==0.13.0 in /usr/local/lib/python3.7/dist-packages (from aiohttp->datasets) (0.13.0)\n",
            "Requirement already satisfied: attrs>=17.3.0 in /usr/local/lib/python3.7/dist-packages (from aiohttp->datasets) (21.4.0)\n",
            "Requirement already satisfied: frozenlist>=1.1.1 in /usr/local/lib/python3.7/dist-packages (from aiohttp->datasets) (1.3.0)\n",
            "Requirement already satisfied: zipp>=0.5 in /usr/local/lib/python3.7/dist-packages (from importlib-metadata->datasets) (3.7.0)\n",
            "Requirement already satisfied: pytz>=2017.3 in /usr/local/lib/python3.7/dist-packages (from pandas->datasets) (2018.9)\n",
            "Requirement already satisfied: python-dateutil>=2.7.3 in /usr/local/lib/python3.7/dist-packages (from pandas->datasets) (2.8.2)\n",
            "Requirement already satisfied: six>=1.5 in /usr/local/lib/python3.7/dist-packages (from python-dateutil>=2.7.3->pandas->datasets) (1.15.0)\n"
          ]
        }
      ]
    },
    {
      "cell_type": "code",
      "source": [
        "# import packages\n",
        "import numpy as np\n",
        "import random\n",
        "from datasets import load_dataset\n",
        "from tqdm import tqdm\n",
        "import matplotlib.pyplot as plt\n",
        "import string\n",
        "import copy\n",
        "\n",
        "import torch\n",
        "from torch.utils.data import DataLoader\n",
        "\n",
        "from sentence_transformers import SentenceTransformer, InputExample\n",
        "from sentence_transformers.util import cos_sim\n",
        "from sentence_transformers.cross_encoder import CrossEncoder\n",
        "from sentence_transformers.cross_encoder.evaluation import CECorrelationEvaluator, CERerankingEvaluator\n",
        "from sentence_transformers.datasets import NoDuplicatesDataLoader\n",
        "\n",
        "from transformers import AutoModelForQuestionAnswering, AutoTokenizer, pipeline, AutoModelForSequenceClassification"
      ],
      "metadata": {
        "id": "j-0qL5MZu82t"
      },
      "execution_count": null,
      "outputs": []
    },
    {
      "cell_type": "code",
      "source": [
        "device = 'cuda'"
      ],
      "metadata": {
        "id": "0fMtS20eGgPQ"
      },
      "execution_count": null,
      "outputs": []
    },
    {
      "cell_type": "markdown",
      "source": [
        "## Load dataset"
      ],
      "metadata": {
        "id": "OrAoqk-8m2pf"
      }
    },
    {
      "cell_type": "code",
      "source": [
        "subjqa = load_dataset('subjqa', name = 'electronics', data_dir = data_dir)\n",
        "subjqa"
      ],
      "metadata": {
        "id": "gKKKJJL-BYEh",
        "colab": {
          "base_uri": "https://localhost:8080/",
          "referenced_widgets": [
            "ead16a3f569448bbbe0f48ed6648502e",
            "f89dcd5f04a7468782d86b6ac4b1efb3",
            "51ca735390d140ce9fa3f72620357e3a",
            "50d1a8ee2d6f41539a00a1eb992c7eff",
            "163c55e10d9543bb9bdac420562a3611",
            "6ef6f993397a4be5961474923b90a5db",
            "f9b94abed743436caeca32f83023065b",
            "6fe46570e3e44e4ea7b7aa4ef7191f48",
            "54f8198f68314306b561051772938820",
            "5966509d136e47f7940c0924cfe9297f",
            "69e6061e9b894840a1f50cff869b4d10"
          ],
          "height": 347
        },
        "outputId": "89599cc6-de0a-437f-c5e2-1c4198ab2b9b"
      },
      "execution_count": null,
      "outputs": [
        {
          "output_type": "stream",
          "name": "stderr",
          "text": [
            "Using custom data configuration electronics-70b9d0b6f00a5974\n",
            "Reusing dataset subjqa (/root/.cache/huggingface/datasets/subjqa/electronics-70b9d0b6f00a5974/1.1.0/e5588f9298ff2d70686a00cc377e4bdccf4e32287459e3c6baf2dc5ab57fe7fd)\n"
          ]
        },
        {
          "output_type": "display_data",
          "data": {
            "application/vnd.jupyter.widget-view+json": {
              "model_id": "ead16a3f569448bbbe0f48ed6648502e",
              "version_minor": 0,
              "version_major": 2
            },
            "text/plain": [
              "  0%|          | 0/3 [00:00<?, ?it/s]"
            ]
          },
          "metadata": {}
        },
        {
          "output_type": "execute_result",
          "data": {
            "text/plain": [
              "DatasetDict({\n",
              "    train: Dataset({\n",
              "        features: ['domain', 'nn_mod', 'nn_asp', 'query_mod', 'query_asp', 'q_reviews_id', 'question_subj_level', 'ques_subj_score', 'is_ques_subjective', 'review_id', 'id', 'title', 'context', 'question', 'answers'],\n",
              "        num_rows: 1295\n",
              "    })\n",
              "    test: Dataset({\n",
              "        features: ['domain', 'nn_mod', 'nn_asp', 'query_mod', 'query_asp', 'q_reviews_id', 'question_subj_level', 'ques_subj_score', 'is_ques_subjective', 'review_id', 'id', 'title', 'context', 'question', 'answers'],\n",
              "        num_rows: 358\n",
              "    })\n",
              "    validation: Dataset({\n",
              "        features: ['domain', 'nn_mod', 'nn_asp', 'query_mod', 'query_asp', 'q_reviews_id', 'question_subj_level', 'ques_subj_score', 'is_ques_subjective', 'review_id', 'id', 'title', 'context', 'question', 'answers'],\n",
              "        num_rows: 255\n",
              "    })\n",
              "})"
            ]
          },
          "metadata": {},
          "execution_count": 6
        }
      ]
    },
    {
      "cell_type": "code",
      "source": [
        "# define dataset partitions\n",
        "\n",
        "subjqa_train = subjqa['train']\n",
        "subjqa_val = subjqa['validation']\n",
        "subjqa_test = subjqa['test']"
      ],
      "metadata": {
        "id": "D9VUQ57-wK7q"
      },
      "execution_count": null,
      "outputs": []
    },
    {
      "cell_type": "code",
      "source": [
        "subjqa_train[1] # print example of training partition to understand its structure "
      ],
      "metadata": {
        "colab": {
          "base_uri": "https://localhost:8080/"
        },
        "id": "8sTjojzNFljq",
        "outputId": "d1e71785-2d35-4456-c1c8-b3f1ec823d82"
      },
      "execution_count": null,
      "outputs": [
        {
          "output_type": "execute_result",
          "data": {
            "text/plain": [
              "{'answers': {'ans_subj_score': [0.5083333253860474, 0.5083333253860474],\n",
              "  'answer_start': [1302, 1302],\n",
              "  'answer_subj_level': [1, 1],\n",
              "  'is_ans_subjective': [True, True],\n",
              "  'text': ['Bass is weak as expected',\n",
              "   'Bass is weak as expected, even with EQ adjusted up']},\n",
              " 'context': 'To anyone who hasn\\'t tried all the various types of headphones, it is important to remember exactly what these are: cheap portable on-ear headphones. They give a totally different sound then in-ears or closed design phones, but for what they are I would say they\\'re good. I currently own six pairs of phones, from stock apple earbuds to Sennheiser HD 518s. Gave my Portapros a run on both my computer\\'s sound card and mp3 player, using 256 kbps mp3s or better. The clarity is good and they\\'re very lightweight. The folding design is simple but effective. The look is certainly retro and unique, although I didn\\'t find it as comfortable as many have claimed. Earpads are *very* thin and made my ears sore after 30 minutes of listening, although this can be remedied to a point by adjusting the \"comfort zone\" feature (tightening the temple pads while loosening the ear pads). The cord seems to be an average thickness, but I wouldn\\'t get too rough with these. The steel headband adjusts smoothly and easily, just watch out that the slider doesn\\'t catch your hair. Despite the sore ears, the phones are very lightweight overall.Back to the sound: as you would expect, it\\'s good for a portable phone, but hardly earth shattering. At flat EQ the clarity is good, although the highs can sometimes be harsh. Bass is weak as expected, even with EQ adjusted up. To be fair, a portable on-ear would have a tough time comparing to the bass of an in-ear with a good seal or a pair with larger drivers. No sound isolation offered if you\\'re into that sort of thing. Cool 80s phones, though I\\'ve certainly owned better portable on-ears (Sony makes excellent phones in this category). Soundstage is very narrow and lacks body. A good value if you can get them for under thirty, otherwise I\\'d rather invest in a nicer pair of phones. If we\\'re talking about value, they\\'re a good buy compared to new stock apple buds. If you\\'re trying to compare the sound quality of this product to serious headphones, there\\'s really no comparison at all.Update: After 100 hours of burn-in time the sound has not been affected in any appreciable way. Highs are still harsh, and bass is still underwhelming. I sometimes use these as a convenience but they have been largely replaced in my collection.',\n",
              " 'domain': 'electronics',\n",
              " 'id': 'd476830bf9282e2b9033e2bb44bbb995',\n",
              " 'is_ques_subjective': False,\n",
              " 'nn_asp': 'high',\n",
              " 'nn_mod': 'harsh',\n",
              " 'q_reviews_id': '7c46670208f7bf5497480fbdbb44561a',\n",
              " 'query_asp': 'bass',\n",
              " 'query_mod': 'not strong',\n",
              " 'ques_subj_score': 0.5,\n",
              " 'question': 'Is this music song have a goo bass?',\n",
              " 'question_subj_level': 1,\n",
              " 'review_id': 'ce76793f036494eabe07b33a9a67288a',\n",
              " 'title': 'B00001P4ZH'}"
            ]
          },
          "metadata": {},
          "execution_count": 8
        }
      ]
    },
    {
      "cell_type": "markdown",
      "source": [
        "## Exercise 1"
      ],
      "metadata": {
        "id": "HlJ2R5GBE36E"
      }
    },
    {
      "cell_type": "code",
      "source": [
        "bi_encoder_model = SentenceTransformer('sentence-transformers/multi-qa-MiniLM-L6-cos-v1', cache_folder = data_dir) # load the bi-encoder"
      ],
      "metadata": {
        "id": "GM81IVvUEhfo"
      },
      "execution_count": null,
      "outputs": []
    },
    {
      "cell_type": "code",
      "source": [
        "# create training index of context-embedding pairs \n",
        "\n",
        "index_train = []\n",
        "for example in tqdm(subjqa_train):\n",
        "  context = example['context']\n",
        "  context_emb = bi_encoder_model.encode(context)\n",
        "  index_train.append({'context': context,\n",
        "                      'embedding': context_emb})"
      ],
      "metadata": {
        "colab": {
          "base_uri": "https://localhost:8080/"
        },
        "id": "fnxoytbBFdrU",
        "outputId": "f293f879-053a-4b77-868f-1fd7b0938a49"
      },
      "execution_count": null,
      "outputs": [
        {
          "output_type": "stream",
          "name": "stderr",
          "text": [
            "100%|██████████| 1295/1295 [00:18<00:00, 71.79it/s] \n"
          ]
        }
      ]
    },
    {
      "cell_type": "code",
      "source": [
        "# create validation index of context-embedding pairs\n",
        "\n",
        "index_val = []\n",
        "for example in tqdm(subjqa_val):\n",
        "  context = example['context']\n",
        "  context_emb = bi_encoder_model.encode(context)\n",
        "  index_val.append({'context': context,\n",
        "                    'embedding': context_emb})"
      ],
      "metadata": {
        "colab": {
          "base_uri": "https://localhost:8080/"
        },
        "id": "OTn6YvJH3WO0",
        "outputId": "c2f26ff7-a65b-4b24-c3fc-94f0ca75bfba"
      },
      "execution_count": null,
      "outputs": [
        {
          "output_type": "stream",
          "name": "stderr",
          "text": [
            "100%|██████████| 255/255 [00:02<00:00, 108.29it/s]\n"
          ]
        }
      ]
    },
    {
      "cell_type": "code",
      "source": [
        "# create test index of context-embedding pairs\n",
        "\n",
        "index_test = []\n",
        "for example in tqdm(subjqa_test):\n",
        "  context = example['context']\n",
        "  context_emb = bi_encoder_model.encode(context)\n",
        "  index_test.append({'context': context,\n",
        "                     'embedding': context_emb})"
      ],
      "metadata": {
        "colab": {
          "base_uri": "https://localhost:8080/"
        },
        "id": "g9zDBtHHL1XA",
        "outputId": "3a756766-7635-4401-f328-daa612785d5d"
      },
      "execution_count": null,
      "outputs": [
        {
          "output_type": "stream",
          "name": "stderr",
          "text": [
            "100%|██████████| 358/358 [00:03<00:00, 105.99it/s]\n"
          ]
        }
      ]
    },
    {
      "cell_type": "markdown",
      "source": [
        "## Exercise 2"
      ],
      "metadata": {
        "id": "3lwgpEUJGUcX"
      }
    },
    {
      "cell_type": "markdown",
      "source": [
        "Two options for fine-tuning the cross-encoder `cross-encoder/ms-marco-MiniLM-L-6- v2` are possible:\n",
        "\n",
        "1) Using the `Transformers` framework with the `AutoModelForSequenceClassification` class and the \"typical\" PyTorch way to train a model\n",
        "\n",
        "2) Using the dedicated `CrossEncoder` class of `SentenceTransformers` with the built-in **.fit()** function.\n",
        "\n",
        "In the folllowing, both options will be considered and subsequently evaluated in exercise 3 and 4 where it will be then decided with which of the two versions to move on with."
      ],
      "metadata": {
        "id": "6baT05zVTZ2a"
      }
    },
    {
      "cell_type": "markdown",
      "source": [
        "First, the training dataset has to be created. Apart from the original (\"gold\") training dataset (if query contains an answer: label = 1, if query is unanswerable: label = 0), additional artificial negative examples are constructed by pairing eac query with all other contexts and accordingly assigning a label of 0. Thereby, the MNR loss can be simulated and the training dataset size increased."
      ],
      "metadata": {
        "id": "hwLoFHkRTmxI"
      }
    },
    {
      "cell_type": "code",
      "source": [
        "training_dataset_true = []\n",
        "training_dataset_augmented = []\n",
        "for i, example_query in tqdm(enumerate(subjqa_train)):\n",
        "  query = example_query['question']\n",
        "  for j, example_context in enumerate(index_train):\n",
        "    context = example_context['context']\n",
        "    if i == j:\n",
        "      if len(example_query['answers']['text']) > 0:\n",
        "        sim = 1.0 # if there is at least one answer in this context: positive example\n",
        "      else:\n",
        "        sim = 0.0 # if no answer is present (unanswerable question): negative example\n",
        "      training_dataset_true.append({'question': query, 'context': context, 'label': sim}) # collect samples that are required to be present in training dataset\n",
        "    else:\n",
        "      sim = 0.0\n",
        "      training_dataset_augmented.append({'question': query, 'context': context, 'label': sim}) # collect artificially created samples"
      ],
      "metadata": {
        "colab": {
          "base_uri": "https://localhost:8080/"
        },
        "id": "6zvChKSQBORs",
        "outputId": "c258178d-116a-447f-f550-3f82ced9415f"
      },
      "execution_count": null,
      "outputs": [
        {
          "output_type": "stream",
          "name": "stderr",
          "text": [
            "1295it [00:01, 780.74it/s]\n"
          ]
        }
      ]
    },
    {
      "cell_type": "markdown",
      "source": [
        "With 1295 \\* 1294 = 1,675,730 additional negative examples in **training_dataset_augmented**, training on this dataset would be computationally infeasible. Instead, it will be randomly sampled from this collection whereas the number of samples presents a hyperparameter which can be tuned using the validation dataset."
      ],
      "metadata": {
        "id": "54ZM6t5od0RG"
      }
    },
    {
      "cell_type": "markdown",
      "source": [
        "### 1) `Transformers`"
      ],
      "metadata": {
        "id": "CmP4YNR7fV2Q"
      }
    },
    {
      "cell_type": "code",
      "source": [
        "# implement validation set with the same conventions\n",
        "\n",
        "validation = []\n",
        "for example in subjqa_val:\n",
        "  if len(example['answers']['text']) > 0:\n",
        "    label = 1.0\n",
        "  else:\n",
        "    label = 0.0\n",
        "  validation.append({'question': example['question'], 'context': example['context'], 'label': label})"
      ],
      "metadata": {
        "id": "OWbzouu8Q4Nq"
      },
      "execution_count": null,
      "outputs": []
    },
    {
      "cell_type": "code",
      "source": [
        "def collate_batch_ce(batch):\n",
        "  input_ids = []\n",
        "  attention_masks = []\n",
        "  labels = []\n",
        "  \n",
        "  for example in batch:\n",
        "    # tokenize question and context\n",
        "    tokenized = cross_encoder_tokenizer(example['question'],\n",
        "                                        example['context'], \n",
        "                                        max_length = 512, \n",
        "                                        truncation = True, \n",
        "                                        return_tensors = \"pt\", \n",
        "                                        pad_to_max_length = True)\n",
        "\n",
        "    input_ids.append(tokenized['input_ids'])\n",
        "    attention_masks.append(tokenized['attention_mask'])\n",
        "    labels.append(example['label'])\n",
        "\n",
        "  input_ids = torch.cat(input_ids, dim=0)\n",
        "  attention_masks = torch.cat(attention_masks, dim=0)\n",
        "  labels = torch.tensor(labels)\n",
        "\n",
        "  return input_ids, attention_masks, labels\n",
        "\n",
        "val_dataloader_ce = DataLoader(validation, batch_size = 32, shuffle = True, collate_fn = collate_batch_ce)"
      ],
      "metadata": {
        "id": "ftcxTvGnV5Z4"
      },
      "execution_count": null,
      "outputs": []
    },
    {
      "cell_type": "code",
      "source": [
        "# range for hyperparameter tuning (grid-search)\n",
        "lr_range = [1e-02, 1e-03]\n",
        "n_neg_samples = [6000, 8000, 10000]\n",
        "\n",
        "best_val_loss_overall = 100\n",
        "\n",
        "for lr in lr_range:\n",
        "  for neg_samples in n_neg_samples:\n",
        "\n",
        "    print(f'Selected Learning_rate = {lr}        Number of additional negative samples = {neg_samples}\\n')\n",
        "\n",
        "    # load model and tokenizer\n",
        "    cross_encoder_model = AutoModelForSequenceClassification.from_pretrained('cross-encoder/ms-marco-MiniLM-L-6-v2', cache_dir = data_dir)\n",
        "    cross_encoder_tokenizer = AutoTokenizer.from_pretrained('cross-encoder/ms-marco-MiniLM-L-6-v2' , cache_dir = data_dir)\n",
        "\n",
        "    # construct training dataset\n",
        "    random.seed(42)\n",
        "    augmented_training_reduced = random.sample(training_dataset_augmented, neg_samples)\n",
        "    training_dataset_t = training_dataset_true + augmented_training_reduced\n",
        "    train_dataloader_ce = DataLoader(training_dataset_t, batch_size = 128, shuffle = True, collate_fn = collate_batch_ce)\n",
        "\n",
        "    # only re-train the linear pooler and classifier\n",
        "    for param in cross_encoder_model.parameters():\n",
        "      param.requires_grad = False\n",
        "\n",
        "    for param in cross_encoder_model.bert.pooler.parameters():\n",
        "      param.requires_grad = True\n",
        "\n",
        "    for param in cross_encoder_model.classifier.parameters():\n",
        "      param.requires_grad = True\n",
        "\n",
        "    cross_encoder_model = cross_encoder_model.to(device)\n",
        "    optimizer = torch.optim.Adam(cross_encoder_model.parameters(), lr=lr)\n",
        "\n",
        "    num_epochs = 8\n",
        "    best_val_loss = 100 # set so high such that learning does not break after first epoch\n",
        "\n",
        "    for epoch in range(num_epochs): \n",
        "      running_loss_train = []\n",
        "      cross_encoder_model.train()\n",
        "      for batch_train in tqdm(train_dataloader_ce):\n",
        "        optimizer.zero_grad()\n",
        "\n",
        "        outputs = cross_encoder_model(input_ids = batch_train[0].to(device),\n",
        "                                      attention_mask = batch_train[1].to(device),\n",
        "                                      labels = batch_train[2].to(device))\n",
        "        \n",
        "        outputs.loss.backward()\n",
        "\n",
        "        optimizer.step()\n",
        "        running_loss_train.append(outputs.loss.item())\n",
        "\n",
        "      # evaluate the fine-tuned model\n",
        "      cross_encoder_model.eval()\n",
        "      running_loss_val = []\n",
        "      with torch.no_grad():\n",
        "        for batch_val in val_dataloader_ce:\n",
        "          outputs = cross_encoder_model(input_ids = batch_val[0].to(device),\n",
        "                                        attention_mask = batch_val[1].to(device),\n",
        "                                        labels = batch_val[2].to(device))\n",
        "          \n",
        "          running_loss_val.append(outputs.loss.item())\n",
        "\n",
        "      val_loss = np.mean(running_loss_val)\n",
        "      \n",
        "      print(f'Epoch {epoch + 1}:\\nTraining Loss = {np.mean(running_loss_train)}   Validation Loss = {val_loss}\\n')\n",
        "\n",
        "      if val_loss < best_val_loss:\n",
        "        cross_encoder_model_t_best = cross_encoder_model # best model over all epochs\n",
        "        best_val_loss = val_loss\n",
        "\n",
        "      else:\n",
        "        break # early stopping\n",
        "\n",
        "    if best_val_loss < best_val_loss_overall:\n",
        "      best_val_loss_overall = best_val_loss\n",
        "      cross_encoder_model_t = cross_encoder_model_t_best # best model over all hyperparameters\n",
        "      best_training_dataset_t = training_dataset_t # capture \"best\" training dataset for subsequent use\n",
        "      print('Tuned cross encoder model updated.')\n",
        "\n",
        "    print('------------------------------------\\n')"
      ],
      "metadata": {
        "colab": {
          "base_uri": "https://localhost:8080/"
        },
        "id": "VxnctCzgVFLE",
        "outputId": "15777dd1-dd5d-4c08-c96e-e41201c3c86e"
      },
      "execution_count": null,
      "outputs": [
        {
          "output_type": "stream",
          "name": "stdout",
          "text": [
            "Selected Learning_rate = 0.01        Number of additional negative samples = 6000\n",
            "\n"
          ]
        },
        {
          "output_type": "stream",
          "name": "stderr",
          "text": [
            "\r  0%|          | 0/57 [00:00<?, ?it/s]/usr/local/lib/python3.7/dist-packages/transformers/tokenization_utils_base.py:2257: FutureWarning: The `pad_to_max_length` argument is deprecated and will be removed in a future version, use `padding=True` or `padding='longest'` to pad to the longest sequence in the batch, or use `padding='max_length'` to pad to a max length. In this case, you can give a specific length with `max_length` (e.g. `max_length=45`) or leave max_length to None to pad to the maximal input size of the model (e.g. 512 for Bert).\n",
            "  FutureWarning,\n",
            "100%|██████████| 57/57 [01:06<00:00,  1.17s/it]\n"
          ]
        },
        {
          "output_type": "stream",
          "name": "stdout",
          "text": [
            "Epoch 1:\n",
            "Training Loss = 2.5169146952399037   Validation Loss = 0.41372131928801537\n",
            "\n"
          ]
        },
        {
          "output_type": "stream",
          "name": "stderr",
          "text": [
            "100%|██████████| 57/57 [01:06<00:00,  1.17s/it]\n"
          ]
        },
        {
          "output_type": "stream",
          "name": "stdout",
          "text": [
            "Epoch 2:\n",
            "Training Loss = 0.072575297762166   Validation Loss = 0.3542720712721348\n",
            "\n"
          ]
        },
        {
          "output_type": "stream",
          "name": "stderr",
          "text": [
            "100%|██████████| 57/57 [01:06<00:00,  1.17s/it]\n"
          ]
        },
        {
          "output_type": "stream",
          "name": "stdout",
          "text": [
            "Epoch 3:\n",
            "Training Loss = 0.06744041306930676   Validation Loss = 0.3775008525699377\n",
            "\n",
            "Tuned cross encoder model updated.\n",
            "------------------------------------\n",
            "\n",
            "Selected Learning_rate = 0.01        Number of additional negative samples = 8000\n",
            "\n"
          ]
        },
        {
          "output_type": "stream",
          "name": "stderr",
          "text": [
            "100%|██████████| 73/73 [01:25<00:00,  1.17s/it]\n"
          ]
        },
        {
          "output_type": "stream",
          "name": "stdout",
          "text": [
            "Epoch 1:\n",
            "Training Loss = 1.8994470891887194   Validation Loss = 0.3212188482284546\n",
            "\n"
          ]
        },
        {
          "output_type": "stream",
          "name": "stderr",
          "text": [
            "100%|██████████| 73/73 [01:25<00:00,  1.17s/it]\n"
          ]
        },
        {
          "output_type": "stream",
          "name": "stdout",
          "text": [
            "Epoch 2:\n",
            "Training Loss = 0.05476142828391023   Validation Loss = 0.3242396414279938\n",
            "\n",
            "Tuned cross encoder model updated.\n",
            "------------------------------------\n",
            "\n",
            "Selected Learning_rate = 0.01        Number of additional negative samples = 10000\n",
            "\n"
          ]
        },
        {
          "output_type": "stream",
          "name": "stderr",
          "text": [
            "100%|██████████| 89/89 [01:43<00:00,  1.17s/it]\n"
          ]
        },
        {
          "output_type": "stream",
          "name": "stdout",
          "text": [
            "Epoch 1:\n",
            "Training Loss = 1.638687427767835   Validation Loss = 0.3477076254785061\n",
            "\n"
          ]
        },
        {
          "output_type": "stream",
          "name": "stderr",
          "text": [
            "100%|██████████| 89/89 [01:43<00:00,  1.16s/it]\n"
          ]
        },
        {
          "output_type": "stream",
          "name": "stdout",
          "text": [
            "Epoch 2:\n",
            "Training Loss = 0.04492150418711512   Validation Loss = 0.34807523526251316\n",
            "\n",
            "------------------------------------\n",
            "\n",
            "Selected Learning_rate = 0.001        Number of additional negative samples = 6000\n",
            "\n"
          ]
        },
        {
          "output_type": "stream",
          "name": "stderr",
          "text": [
            "100%|██████████| 57/57 [01:07<00:00,  1.18s/it]\n"
          ]
        },
        {
          "output_type": "stream",
          "name": "stdout",
          "text": [
            "Epoch 1:\n",
            "Training Loss = 5.1495180106476734   Validation Loss = 0.46664974093437195\n",
            "\n"
          ]
        },
        {
          "output_type": "stream",
          "name": "stderr",
          "text": [
            "100%|██████████| 57/57 [01:07<00:00,  1.18s/it]\n"
          ]
        },
        {
          "output_type": "stream",
          "name": "stdout",
          "text": [
            "Epoch 2:\n",
            "Training Loss = 0.13222213442388334   Validation Loss = 0.3212033826857805\n",
            "\n"
          ]
        },
        {
          "output_type": "stream",
          "name": "stderr",
          "text": [
            "100%|██████████| 57/57 [01:06<00:00,  1.17s/it]\n"
          ]
        },
        {
          "output_type": "stream",
          "name": "stdout",
          "text": [
            "Epoch 3:\n",
            "Training Loss = 0.09565266437436405   Validation Loss = 0.31710853427648544\n",
            "\n"
          ]
        },
        {
          "output_type": "stream",
          "name": "stderr",
          "text": [
            "100%|██████████| 57/57 [01:07<00:00,  1.18s/it]\n"
          ]
        },
        {
          "output_type": "stream",
          "name": "stdout",
          "text": [
            "Epoch 4:\n",
            "Training Loss = 0.08065850300747052   Validation Loss = 0.32728779688477516\n",
            "\n",
            "Tuned cross encoder model updated.\n",
            "------------------------------------\n",
            "\n",
            "Selected Learning_rate = 0.001        Number of additional negative samples = 8000\n",
            "\n"
          ]
        },
        {
          "output_type": "stream",
          "name": "stderr",
          "text": [
            "100%|██████████| 73/73 [01:25<00:00,  1.17s/it]\n"
          ]
        },
        {
          "output_type": "stream",
          "name": "stdout",
          "text": [
            "Epoch 1:\n",
            "Training Loss = 3.9621208638769305   Validation Loss = 0.30178481340408325\n",
            "\n"
          ]
        },
        {
          "output_type": "stream",
          "name": "stderr",
          "text": [
            "100%|██████████| 73/73 [01:25<00:00,  1.17s/it]\n"
          ]
        },
        {
          "output_type": "stream",
          "name": "stdout",
          "text": [
            "Epoch 2:\n",
            "Training Loss = 0.10040336260444498   Validation Loss = 0.3317076005041599\n",
            "\n",
            "Tuned cross encoder model updated.\n",
            "------------------------------------\n",
            "\n",
            "Selected Learning_rate = 0.001        Number of additional negative samples = 10000\n",
            "\n"
          ]
        },
        {
          "output_type": "stream",
          "name": "stderr",
          "text": [
            "100%|██████████| 89/89 [01:43<00:00,  1.17s/it]\n"
          ]
        },
        {
          "output_type": "stream",
          "name": "stdout",
          "text": [
            "Epoch 1:\n",
            "Training Loss = 3.3618229365583217   Validation Loss = 0.34776404686272144\n",
            "\n"
          ]
        },
        {
          "output_type": "stream",
          "name": "stderr",
          "text": [
            "100%|██████████| 89/89 [01:43<00:00,  1.17s/it]\n"
          ]
        },
        {
          "output_type": "stream",
          "name": "stdout",
          "text": [
            "Epoch 2:\n",
            "Training Loss = 0.07899586843808046   Validation Loss = 0.3408302888274193\n",
            "\n"
          ]
        },
        {
          "output_type": "stream",
          "name": "stderr",
          "text": [
            "100%|██████████| 89/89 [01:43<00:00,  1.17s/it]\n"
          ]
        },
        {
          "output_type": "stream",
          "name": "stdout",
          "text": [
            "Epoch 3:\n",
            "Training Loss = 0.059072932479589176   Validation Loss = 0.3470219187438488\n",
            "\n",
            "------------------------------------\n",
            "\n"
          ]
        }
      ]
    },
    {
      "cell_type": "markdown",
      "source": [
        "Hence, the best result was achieved using a learning rate of 0.001 and 8,000 additional negative samples after one epoch. Therefore, these values will be stored."
      ],
      "metadata": {
        "id": "0Y9_ncVaDnhU"
      }
    },
    {
      "cell_type": "code",
      "source": [
        "epochs_ce_tuned = 1\n",
        "lr_ce_tuned = 0.001"
      ],
      "metadata": {
        "id": "705JLwV1cj8h"
      },
      "execution_count": null,
      "outputs": []
    },
    {
      "cell_type": "markdown",
      "source": [
        "### 2) `SentenceTransformers`"
      ],
      "metadata": {
        "id": "1lyUqMqrfZ5V"
      }
    },
    {
      "cell_type": "markdown",
      "source": [
        "Using `SententenceTransformers`, the **CERerankingEvaluator** can be used to evaluate the fine-tuned model for the specific application of re-ranking. To set this Evaluator up, each answerable query along with its positive context will be paired with all other contexts which serve as the negative ones.\n",
        "\n",
        "Also, the best training dataset from the `Transformers` approach is used (and converted) for this approach as well such that the two methods are comparable."
      ],
      "metadata": {
        "id": "YilBQApafqol"
      }
    },
    {
      "cell_type": "code",
      "source": [
        "eval_samples = []\n",
        "all_val_contexts = [example['context'] for example in subjqa_val]\n",
        "for example in subjqa_val:\n",
        "  if len(example['answers']['text']) > 0:\n",
        "    query = example['question']\n",
        "    pos_context = example['context']\n",
        "    neg_contexts = copy.deepcopy(all_val_contexts)\n",
        "    neg_contexts.remove(pos_context)\n",
        "    eval_samples.append({'query': query, 'positive': [pos_context], 'negative': neg_contexts})\n",
        "  else:\n",
        "    continue\n",
        "\n",
        "evaluator = CERerankingEvaluator(eval_samples)\n",
        "\n",
        "training_dataset_st = [InputExample(texts = [example['question'], example['context']], label = int(example['label'])) for example in best_training_dataset_t]\n",
        "training_dataloader_st = DataLoader(training_dataset_st, batch_size = 16) # smaller batch size due to memory constraints"
      ],
      "metadata": {
        "id": "DtH7GYddsbMD"
      },
      "execution_count": null,
      "outputs": []
    },
    {
      "cell_type": "markdown",
      "source": [
        "Since it is more difficult to evaluate the best hyperparameters for the `SentenceTransformers` approach (ideas can be seen under the sub-section **Additional considerations**), the hyperparameters from the `Transformers` approach are used (acknowledging that this biases the comparison to some extent).\n",
        "\n",
        "Also, overfitting is not an issue here because the evaluator automatically selects the best trained model."
      ],
      "metadata": {
        "id": "kYVf8ipMp9oP"
      }
    },
    {
      "cell_type": "code",
      "source": [
        "cross_encoder_model_st = CrossEncoder('cross-encoder/ms-marco-MiniLM-L-6-v2', num_labels = 1)\n",
        "cross_encoder_model_st.fit(train_dataloader = training_dataloader_st,\n",
        "                           evaluator = evaluator,\n",
        "                           epochs = epochs_ce_tuned,\n",
        "                           evaluation_steps = int(len(training_dataloader_st) / 2), # evaluate after half of an epoch\n",
        "                           optimizer_class = torch.optim.Adam,\n",
        "                           optimizer_params = {'lr': lr_ce_tuned}, # use fine-tuned learning rate from Transformers method\n",
        "                           warmup_steps = int(len(training_dataloader_st)*0.1),\n",
        "                           show_progress_bar = True)"
      ],
      "metadata": {
        "colab": {
          "base_uri": "https://localhost:8080/",
          "height": 81,
          "referenced_widgets": [
            "174bb7242d0a462e94cc8ac3e649b6cc",
            "bc5d5f3ad756422c94363795df3d8c1c",
            "71609c2115564e65852825cbcd6bdcfa",
            "b87a0c39991a48279aa46486040ca6ec",
            "e41cf62971064434a24690b32a780edf",
            "8c20cf2e9846451b9a7bb1f32d252909",
            "5f21e573c07d41768348500c1b5b90f4",
            "fe7b1884d3fb474aa41763eb5865a49e",
            "3006db562a9d435ba01c9fe9e3cec473",
            "a5eb23db605145fba191a8bce49b7c1e",
            "a1eec3be7dab472f94786a7077592d3d",
            "eaedf3ef86064c5ea7dc5a71da862c6a",
            "4ed83829f4504a0ea136a36893620ca8",
            "22afcc6845a347dfa528b5400d85c342",
            "0f83401be79a489c8c573f3c94e5a2e1",
            "b69fd768c84442aba46a1a497440ee4f",
            "3cdc90332b094e82a46f2e3ec6b07314",
            "010c89c0b8d24331962036a649dd45f8",
            "60147a6f88524989a074eab777810810",
            "d5684ecad78144cca0d2210eda7f82c5",
            "ca74e4a1e62545f98873fdd0b2e31942",
            "3af99dc2952b4d59a8525ff0ccb0fd71"
          ]
        },
        "id": "bgNsJsoythQH",
        "outputId": "b1883fe6-1bea-4c36-88e6-b195a817f029"
      },
      "execution_count": null,
      "outputs": [
        {
          "output_type": "display_data",
          "data": {
            "application/vnd.jupyter.widget-view+json": {
              "model_id": "174bb7242d0a462e94cc8ac3e649b6cc",
              "version_minor": 0,
              "version_major": 2
            },
            "text/plain": [
              "Epoch:   0%|          | 0/1 [00:00<?, ?it/s]"
            ]
          },
          "metadata": {}
        },
        {
          "output_type": "display_data",
          "data": {
            "application/vnd.jupyter.widget-view+json": {
              "model_id": "eaedf3ef86064c5ea7dc5a71da862c6a",
              "version_minor": 0,
              "version_major": 2
            },
            "text/plain": [
              "Iteration:   0%|          | 0/581 [00:00<?, ?it/s]"
            ]
          },
          "metadata": {}
        }
      ]
    },
    {
      "cell_type": "markdown",
      "source": [
        "### Additional considerations"
      ],
      "metadata": {
        "id": "13ad67cXNVOJ"
      }
    },
    {
      "cell_type": "markdown",
      "source": [
        "In this subsection, some further ideas/ experiments that took place in connection to the fine-tuning of the cross-encoder are presented."
      ],
      "metadata": {
        "id": "SqkjontWiQuE"
      }
    },
    {
      "cell_type": "markdown",
      "source": [
        "First, several ideas with regard to the fine-tuning of the `SentenceTransformers` method were evaluated. Below, both an approach to use the **BCEWithLogitsLoss** and using the re-ranking error are displayed.\n",
        "\n",
        "Both methods were also employed with the model, but did not yield comparably good results and therefore, these approaches were not considered for the final version."
      ],
      "metadata": {
        "id": "XwBWeOLHmshC"
      }
    },
    {
      "cell_type": "code",
      "source": [
        "# 1) BCEWithLogitsLoss()\n",
        "outputs = torch.tensor(cross_encoder_model.predict([[subjqa_val[i]['question'], subjqa_val[i]['context']] for i in range(len(subjqa_val))]))\n",
        "# set up 'targets' as corresponding 0-1 vector with regard to whether answer is present in example or not\n",
        "loss = torch.nn.BCEWithLogitsLoss()\n",
        "loss_epoch = loss(outputs, targets)\n",
        "\n",
        "# 2) Re-ranked index as loss\n",
        "loss = 0\n",
        "for n, example in enumerate(subjqa_val):\n",
        "  scores = cross_encoder_model.predict([[example['question'], subjqa_val[i]['context']] for i in range(len(subjqa_val))])\n",
        "  ranking_index = np.array(scores).argsort()[::-1]\n",
        "  result = list(ranking_index).index(n) # loss of training example is its position after re-ranking\n",
        "  loss += result"
      ],
      "metadata": {
        "id": "lyUIfpzrhKqN"
      },
      "execution_count": null,
      "outputs": []
    },
    {
      "cell_type": "markdown",
      "source": [
        "In addition, several different ideas to construct the training dataset were tried out. \n",
        "\n",
        "The first method does not select random artifical negative samples, but rather takes the ten contexts for each query, which yielded the highest cosine similarity. Thereby, the intention was to feed the model those prime negative examples which are supposed to be extremely hard and may be helpful for the model.\n",
        "\n",
        "Second, it was also evaluated to not assign hard labels to the positive and negative examples, but rather use the cosine similarity of the bi-encoder embeddings.\n",
        "\n",
        "Eventually, both approaches did not result in any performance gains, but rather yielded worse results and were therefore not considered any further."
      ],
      "metadata": {
        "id": "KC0UMX06neIS"
      }
    },
    {
      "cell_type": "code",
      "source": [
        "# 1) Prime negative examples\n",
        "training_dataset_augmented = []\n",
        "\n",
        "for sample in tqdm(subjqa_train):\n",
        "  if len(sample['answers']['text']) > 0:\n",
        "    query = sample['question']\n",
        "    context = sample['context']\n",
        "\n",
        "    # use bi-encoder to retrieve top 10 contexts with highest cosine similaritity\n",
        "    query_emb = bi_encoder_model.encode(query)\n",
        "    cos_similarities = [cos_sim(query_emb, context['embedding']) for context in index_train]\n",
        "    \n",
        "    rel_contexts = np.array(cos_similarities).argsort()[-10:][::-1]\n",
        "    contexts = [index_train[rel_context]['context'] for rel_context in rel_contexts]\n",
        "    if context in contexts:\n",
        "      contexts.remove(context)\n",
        "\n",
        "    for c in contexts:\n",
        "        training_dataset_augmented.append(InputExample(texts = [query, c], label = 0))\n",
        "\n",
        "# 2) Cosine similarity as soft label\n",
        "sim = (cos_sim(query_emb, example_context['embedding']) + 1) / 2 # normalize cosine similarity to (0,1)"
      ],
      "metadata": {
        "colab": {
          "base_uri": "https://localhost:8080/"
        },
        "id": "bjZ6uMwp2aBl",
        "outputId": "4cfe2b73-4068-4f40-861e-708f31d9e73c"
      },
      "execution_count": null,
      "outputs": [
        {
          "output_type": "stream",
          "name": "stderr",
          "text": [
            "100%|██████████| 1295/1295 [03:07<00:00,  6.92it/s]\n"
          ]
        }
      ]
    },
    {
      "cell_type": "markdown",
      "source": [
        "## Exercise 3\n"
      ],
      "metadata": {
        "id": "Qtcv4GnFGqkd"
      }
    },
    {
      "cell_type": "code",
      "source": [
        "test_results_t = []\n",
        "test_results_st = []\n",
        "\n",
        "for sample in tqdm(subjqa_test):\n",
        "  query = sample['question']\n",
        "\n",
        "  # use bi-encoder to retrieve top n (30) contexts with highest cosine similaritity (as experiments showed that n = 30 performs better than n = 10)\n",
        "  query_emb = bi_encoder_model.encode(query)\n",
        "  cos_similarities = [cos_sim(query_emb, context['embedding']) for context in index_test]\n",
        "  rel_contexts = np.array(cos_similarities).argsort()[-30:][::-1]\n",
        "\n",
        "\n",
        "  # use fine-tuned cross-encoders to re-rank those relevant contexts\n",
        "  ## 1) Transformers approach\n",
        "  scores_t = []\n",
        "  cross_encoder_model_t.eval()\n",
        "  with torch.no_grad():\n",
        "    for context_id in rel_contexts:\n",
        "      tokenized = cross_encoder_tokenizer(query, \n",
        "                                          index_test[context_id]['context'], \n",
        "                                          truncation = 'only_second',\n",
        "                                          max_length = 512, \n",
        "                                          return_tensors = \"pt\", \n",
        "                                          pad_to_max_length = True).to(device)\n",
        "\n",
        "      scores_t.append(cross_encoder_model_t(**tokenized).logits)\n",
        "  ranked_contexts_t = np.array(scores_t).argsort()[::-1] # re-rank contexts\n",
        "  result_t = [{'context': index_test[rel_contexts[rank]]['context'], 'score': scores_t[rank]} for rank in ranked_contexts_t]\n",
        "  test_results_t.append(result_t)\n",
        "\n",
        "\n",
        "  ## 2) SentenceTransformers approach\n",
        "  scores_st = [cross_encoder_model_st.predict([(query, index_test[rel_context]['context'])])[0] for rel_context in rel_contexts]\n",
        "  ranked_contexts_st = np.array(scores_st).argsort()[::-1] # re-rank contexts\n",
        "  result_st = [{'context': index_test[rel_contexts[rank]]['context'], 'score': scores_st[rank]} for rank in ranked_contexts_st]\n",
        "  test_results_st.append(result_st)"
      ],
      "metadata": {
        "colab": {
          "base_uri": "https://localhost:8080/"
        },
        "id": "r_TV0zNXxROl",
        "outputId": "1d964961-310c-4e0e-f9ef-8c99796866c6"
      },
      "execution_count": null,
      "outputs": [
        {
          "output_type": "stream",
          "name": "stderr",
          "text": [
            "\r  0%|          | 0/358 [00:00<?, ?it/s]/usr/local/lib/python3.7/dist-packages/transformers/tokenization_utils_base.py:2257: FutureWarning: The `pad_to_max_length` argument is deprecated and will be removed in a future version, use `padding=True` or `padding='longest'` to pad to the longest sequence in the batch, or use `padding='max_length'` to pad to a max length. In this case, you can give a specific length with `max_length` (e.g. `max_length=45`) or leave max_length to None to pad to the maximal input size of the model (e.g. 512 for Bert).\n",
            "  FutureWarning,\n",
            "100%|██████████| 358/358 [03:26<00:00,  1.73it/s]\n"
          ]
        }
      ]
    },
    {
      "cell_type": "markdown",
      "source": [
        "## Exercise 4"
      ],
      "metadata": {
        "id": "9TRaxGJKGs3y"
      }
    },
    {
      "cell_type": "code",
      "source": [
        "def recall_test_samples(test_results, k = 10):\n",
        "  counter = 0\n",
        "  num_tests = 0\n",
        "  for i, sample in enumerate(subjqa_test):\n",
        "    if len(sample['answers']['text']) > 0: # remove unanswerable examples from evaluation\n",
        "      num_tests += 1\n",
        "      answer = sample['context'] # select correct context\n",
        "      results = test_results[i]\n",
        "      rel_contexts = [results[j]['context'] for j in range(k)] \n",
        "      if answer in rel_contexts: # evaluate whether correct context is among the k best reranked ones\n",
        "        counter += 1\n",
        "\n",
        "  return counter / num_tests"
      ],
      "metadata": {
        "id": "zgATyxVp4Yz8"
      },
      "execution_count": null,
      "outputs": []
    },
    {
      "cell_type": "code",
      "source": [
        "k_range = np.arange(len(test_results_t[0])) + 1 # evaluate for each possible k within n (gives a more detailed view than only k = 1,3,5,10)\n",
        "\n",
        "recalls_test_t = [recall_test_samples(test_results_t, k) for k in k_range] # evaluate for Transformers approach\n",
        "recalls_test_st = [recall_test_samples(test_results_st, k) for k in k_range] # evaluate for SentenceTransformers approach"
      ],
      "metadata": {
        "id": "vF56K_7p6Fam"
      },
      "execution_count": null,
      "outputs": []
    },
    {
      "cell_type": "code",
      "source": [
        "plt.figure(figsize=(15, 8))\n",
        "plt.plot(k_range, recalls_test_t, label = 'Recall of the tuned Transformers method')\n",
        "plt.plot(k_range, recalls_test_st, label = 'Recall of the tuned Sentence Transformers method') \n",
        "plt.xlabel(\"k\")\n",
        "plt.ylabel(\"Recall\")\n",
        "plt.legend()\n",
        "plt.show()"
      ],
      "metadata": {
        "colab": {
          "base_uri": "https://localhost:8080/",
          "height": 497
        },
        "id": "LUq75JkEvBW9",
        "outputId": "9ef51720-f71c-4da5-85e7-4f9ca0824ce0"
      },
      "execution_count": null,
      "outputs": [
        {
          "output_type": "display_data",
          "data": {
            "image/png": "[encoded data removed]",
            "text/plain": [
              "<Figure size 1080x576 with 1 Axes>"
            ]
          },
          "metadata": {
            "needs_background": "light"
          }
        }
      ]
    },
    {
      "cell_type": "markdown",
      "source": [
        "Analyzing the graph, it can be seen that the `Transformers` approach consistently outperforms the `SentenceTransformer` one. However, this was somehow expected due to the introduced bias when selecting the hyperparameters. \n",
        "\n",
        "Since we trained the cross-encoder to potentially reduce k while maintaining a high recall, **k = 20** is selected because there, recall performance begins to saturate. While this increase in k compared to k = 10 will result in a slower final reader step, it is reasonable given the recall performance to ensure that the correct context is present among the selected ones.\n",
        "\n",
        "Also, as **n = 30** worked reasonably well, this parameter is also set."
      ],
      "metadata": {
        "id": "EIJBSQw_YrOE"
      }
    },
    {
      "cell_type": "code",
      "source": [
        "k_best = 20\n",
        "n_best = 30"
      ],
      "metadata": {
        "id": "t5uES2tU2lOl"
      },
      "execution_count": null,
      "outputs": []
    },
    {
      "cell_type": "markdown",
      "source": [
        "## Exercise 5"
      ],
      "metadata": {
        "id": "T1cEOoEKGv0d"
      }
    },
    {
      "cell_type": "code",
      "source": [
        "def collate_batch_reader(batch):\n",
        "  input_ids = []\n",
        "  attention_masks = []\n",
        "  token_type_ids = []\n",
        "  start_pos = []\n",
        "  end_pos = []\n",
        "\n",
        "  for example in batch:\n",
        "\n",
        "    tokenized = reader_tokenizer(example['question'], \n",
        "                                 example['context'], \n",
        "                                 return_overflowing_tokens = True, \n",
        "                                 max_length = 512, \n",
        "                                 stride = stride_selected, \n",
        "                                 return_tensors = \"pt\", \n",
        "                                 pad_to_max_length = True, \n",
        "                                 return_offsets_mapping = True,  # return (char_start, char_end) for each token\n",
        "                                 truncation = False)\n",
        "    \n",
        "    for i, offset in enumerate(tokenized[\"offset_mapping\"]): # go through different parts (windows) of example produced by stride\n",
        "      sequence_ids = tokenized.sequence_ids(i)\n",
        "\n",
        "      # find context of this window\n",
        "      idx = 0\n",
        "      while sequence_ids[idx] != 1:\n",
        "          idx += 1\n",
        "      context_start = idx\n",
        "      while sequence_ids[idx] == 1:\n",
        "          idx += 1\n",
        "      context_end = idx - 1 # last index was the last one of this window\n",
        "\n",
        "      # if example contains no answer: label with CLS token\n",
        "      if len(example['answers']['answer_start']) == 0:\n",
        "        input_ids.append(tokenized['input_ids'][i].unsqueeze(0))\n",
        "        attention_masks.append(tokenized['attention_mask'][i].unsqueeze(0))\n",
        "        token_type_ids.append(tokenized['token_type_ids'][i].unsqueeze(0))\n",
        "        start_pos.append(0)\n",
        "        end_pos.append(0)\n",
        "\n",
        "      else:\n",
        "        found_start = []\n",
        "        found_end = []\n",
        "        for answer_nr in range(len(example['answers']['answer_start'])): # iterate through all answers of example\n",
        "          start_char = example['answers']['answer_start'][answer_nr]\n",
        "          end_char = example['answers']['answer_start'][answer_nr] + len(example['answers']['text'][answer_nr])\n",
        "\n",
        "          if offset[context_start][0] > end_char or offset[context_end][1] < start_char: # check whether answer is not fully in span of context (on character-level)\n",
        "            continue\n",
        "            \n",
        "          else:\n",
        "            # find start and end token positions (mapping from their character positions to indices)\n",
        "            start_idx = context_start\n",
        "            while start_idx <= context_end and offset[start_idx][0] <= start_char:\n",
        "                start_idx += 1\n",
        "            found_start.append(start_idx - 1) # remove the last step\n",
        "\n",
        "            end_idx = context_end\n",
        "            while end_idx >= context_start and offset[end_idx][1] >= end_char:\n",
        "                end_idx -= 1\n",
        "            found_end.append(end_idx + 1) # remove the last step\n",
        "\n",
        "        if len(found_start) > 0: # if found answer(s) in context span: add it/them to training data\n",
        "          for answer in range(len(found_start)):\n",
        "            input_ids.append(tokenized['input_ids'][i].unsqueeze(0))\n",
        "            attention_masks.append(tokenized['attention_mask'][i].unsqueeze(0))\n",
        "            token_type_ids.append(tokenized['token_type_ids'][i].unsqueeze(0))\n",
        "            start_pos.append(found_start[answer])\n",
        "            end_pos.append(found_end[answer])\n",
        "\n",
        "        else: # if no answer is (fully) in span of context: label is (0,0)\n",
        "          input_ids.append(tokenized['input_ids'][i].unsqueeze(0))\n",
        "          attention_masks.append(tokenized['attention_mask'][i].unsqueeze(0))\n",
        "          token_type_ids.append(tokenized['token_type_ids'][i].unsqueeze(0))\n",
        "          start_pos.append(0)\n",
        "          end_pos.append(0)\n",
        "\n",
        "\n",
        "  input_ids = torch.cat(input_ids, dim=0)\n",
        "  attention_masks = torch.cat(attention_masks, dim=0)\n",
        "  token_type_ids = torch.cat(token_type_ids, dim=0)\n",
        "  start_pos = torch.tensor(start_pos)\n",
        "  end_pos = torch.tensor(end_pos)\n",
        "\n",
        "  return input_ids, token_type_ids, attention_masks, start_pos, end_pos\n",
        "\n",
        "\n",
        "train_dataloader_reader = DataLoader(subjqa_train, batch_size = 32, shuffle = True, collate_fn = collate_batch_reader)\n",
        "val_dataloader_reader = DataLoader(subjqa_val, batch_size = 32, shuffle = True, collate_fn = collate_batch_reader)"
      ],
      "metadata": {
        "id": "3QAOTBUUx8R8"
      },
      "execution_count": null,
      "outputs": []
    },
    {
      "cell_type": "code",
      "source": [
        "# hyperparameter to be tuned (grid-search)\n",
        "stride_range = [50, 100, 150]\n",
        "lr_range = [1e-3, 1e-4]\n",
        "\n",
        "best_val_loss_overall = 4\n",
        "\n",
        "for stride_selected in stride_range:\n",
        "  for lr_selected in lr_range:\n",
        "    print(f'Selected stride = {stride_selected}    Selected Learning_rate = {lr_selected}\\n')\n",
        "\n",
        "    # load model and tokenizer\n",
        "    reader_model = AutoModelForQuestionAnswering.from_pretrained(\"deepset/minilm-uncased-squad2\", cache_dir = data_dir)\n",
        "    reader_tokenizer = AutoTokenizer.from_pretrained(\"deepset/minilm-uncased-squad2\", cache_dir = data_dir)\n",
        "\n",
        "    # since we cannot train all parameters (results in CUDA out of memory), we only fine-tune the final linear layer (and not the BERT corpus)\n",
        "    for param in reader_model.parameters():\n",
        "      param.requires_grad = False\n",
        "\n",
        "    for param in reader_model.bert.encoder.layer[len(reader_model.bert.encoder.layer) - 1].output.parameters():\n",
        "      param.requires_grad = True\n",
        "\n",
        "    for param in reader_model.bert.encoder.layer[len(reader_model.bert.encoder.layer) - 2].output.parameters():\n",
        "      param.requires_grad = True\n",
        "\n",
        "    for param in reader_model.bert.encoder.layer[len(reader_model.bert.encoder.layer) - 3].output.parameters():\n",
        "      param.requires_grad = True\n",
        "\n",
        "    for param in reader_model.qa_outputs.parameters():\n",
        "        param.requires_grad = True\n",
        "\n",
        "\n",
        "    reader_model = reader_model.to(device)\n",
        "    optimizer = torch.optim.Adam(reader_model.parameters(), lr = lr_selected)\n",
        "\n",
        "    num_epochs = 20\n",
        "    best_val_loss = 4\n",
        "\n",
        "    for epoch in range(num_epochs): \n",
        "      running_loss_train = []\n",
        "      reader_model.train()\n",
        "      for batch_train in tqdm(train_dataloader_reader):\n",
        "        optimizer.zero_grad()\n",
        "\n",
        "        outputs = reader_model(input_ids = batch_train[0].to(device),\n",
        "                              token_type_ids = batch_train[1].to(device),\n",
        "                              attention_mask = batch_train[2].to(device),\n",
        "                              start_positions = batch_train[3].to(device), \n",
        "                              end_positions = batch_train[4].to(device))\n",
        "        \n",
        "        outputs.loss.backward()\n",
        "        optimizer.step() # fine-tuning\n",
        "        running_loss_train.append(outputs.loss.item())\n",
        "\n",
        "      reader_model.eval()\n",
        "      running_loss_val = []\n",
        "      with torch.no_grad():\n",
        "        for batch_val in val_dataloader_reader:\n",
        "          outputs = reader_model(input_ids = batch_val[0].to(device),\n",
        "                                token_type_ids = batch_val[1].to(device),\n",
        "                                attention_mask = batch_val[2].to(device),\n",
        "                                start_positions = batch_val[3].to(device), \n",
        "                                end_positions = batch_val[4].to(device))\n",
        "          \n",
        "          running_loss_val.append(outputs.loss.item())\n",
        "\n",
        "      val_loss = np.mean(running_loss_val)\n",
        "\n",
        "      print(f'Epoch {epoch + 1}:\\nTraining Loss = {np.mean(running_loss_train)}   Validation Loss = {val_loss}\\n')\n",
        "\n",
        "      if val_loss < best_val_loss:\n",
        "        best_val_loss = val_loss\n",
        "        best_reader_model_config = reader_model # best model over all epochs\n",
        "\n",
        "      else:\n",
        "        break\n",
        "\n",
        "    if best_val_loss < best_val_loss_overall:\n",
        "      best_val_loss_overall = best_val_loss\n",
        "      tuned_reader_model = best_reader_model_config # best model over all hyperparameters\n",
        "      print('Tuned reader model updated.')\n",
        "\n",
        "    print('------------------------------------\\n')"
      ],
      "metadata": {
        "colab": {
          "base_uri": "https://localhost:8080/"
        },
        "id": "ovKlCLg1w3Gj",
        "outputId": "e44f856e-c824-4ea0-b74c-c364f87906a4"
      },
      "execution_count": null,
      "outputs": [
        {
          "output_type": "stream",
          "name": "stdout",
          "text": [
            "Selected stride = 50    Selected Learning_rate = 0.001\n",
            "\n"
          ]
        },
        {
          "output_type": "stream",
          "name": "stderr",
          "text": [
            "\r  0%|          | 0/41 [00:00<?, ?it/s]Truncation was not explicitly activated but `max_length` is provided a specific value, please use `truncation=True` to explicitly truncate examples to max length. Defaulting to 'longest_first' truncation strategy. If you encode pairs of sequences (GLUE-style) with the tokenizer you can select this strategy more precisely by providing a specific strategy to `truncation`.\n",
            "/usr/local/lib/python3.7/dist-packages/transformers/tokenization_utils_base.py:2257: FutureWarning: The `pad_to_max_length` argument is deprecated and will be removed in a future version, use `padding=True` or `padding='longest'` to pad to the longest sequence in the batch, or use `padding='max_length'` to pad to a max length. In this case, you can give a specific length with `max_length` (e.g. `max_length=45`) or leave max_length to None to pad to the maximal input size of the model (e.g. 512 for Bert).\n",
            "  FutureWarning,\n",
            "100%|██████████| 41/41 [00:40<00:00,  1.00it/s]\n"
          ]
        },
        {
          "output_type": "stream",
          "name": "stdout",
          "text": [
            "Epoch 1:\n",
            "Training Loss = 2.4393682828763636   Validation Loss = 2.1185587495565414\n",
            "\n"
          ]
        },
        {
          "output_type": "stream",
          "name": "stderr",
          "text": [
            "100%|██████████| 41/41 [00:39<00:00,  1.03it/s]\n"
          ]
        },
        {
          "output_type": "stream",
          "name": "stdout",
          "text": [
            "Epoch 2:\n",
            "Training Loss = 2.2706704604916457   Validation Loss = 2.091582641005516\n",
            "\n"
          ]
        },
        {
          "output_type": "stream",
          "name": "stderr",
          "text": [
            "100%|██████████| 41/41 [00:40<00:00,  1.01it/s]\n"
          ]
        },
        {
          "output_type": "stream",
          "name": "stdout",
          "text": [
            "Epoch 3:\n",
            "Training Loss = 2.1834744331313343   Validation Loss = 2.0783803164958954\n",
            "\n"
          ]
        },
        {
          "output_type": "stream",
          "name": "stderr",
          "text": [
            "100%|██████████| 41/41 [00:40<00:00,  1.01it/s]\n"
          ]
        },
        {
          "output_type": "stream",
          "name": "stdout",
          "text": [
            "Epoch 4:\n",
            "Training Loss = 2.1611015738510506   Validation Loss = 2.1552266776561737\n",
            "\n",
            "Tuned reader model updated.\n",
            "------------------------------------\n",
            "\n",
            "Selected stride = 50    Selected Learning_rate = 0.0001\n",
            "\n"
          ]
        },
        {
          "output_type": "stream",
          "name": "stderr",
          "text": [
            "  0%|          | 0/41 [00:00<?, ?it/s]Truncation was not explicitly activated but `max_length` is provided a specific value, please use `truncation=True` to explicitly truncate examples to max length. Defaulting to 'longest_first' truncation strategy. If you encode pairs of sequences (GLUE-style) with the tokenizer you can select this strategy more precisely by providing a specific strategy to `truncation`.\n",
            "100%|██████████| 41/41 [00:40<00:00,  1.00it/s]\n"
          ]
        },
        {
          "output_type": "stream",
          "name": "stdout",
          "text": [
            "Epoch 1:\n",
            "Training Loss = 2.5436279453882356   Validation Loss = 2.1941229104995728\n",
            "\n"
          ]
        },
        {
          "output_type": "stream",
          "name": "stderr",
          "text": [
            "100%|██████████| 41/41 [00:40<00:00,  1.02it/s]\n"
          ]
        },
        {
          "output_type": "stream",
          "name": "stdout",
          "text": [
            "Epoch 2:\n",
            "Training Loss = 2.3575232174338363   Validation Loss = 2.1882901191711426\n",
            "\n"
          ]
        },
        {
          "output_type": "stream",
          "name": "stderr",
          "text": [
            "100%|██████████| 41/41 [00:40<00:00,  1.01it/s]\n"
          ]
        },
        {
          "output_type": "stream",
          "name": "stdout",
          "text": [
            "Epoch 3:\n",
            "Training Loss = 2.3193784632333894   Validation Loss = 2.1245640367269516\n",
            "\n"
          ]
        },
        {
          "output_type": "stream",
          "name": "stderr",
          "text": [
            "100%|██████████| 41/41 [00:40<00:00,  1.02it/s]\n"
          ]
        },
        {
          "output_type": "stream",
          "name": "stdout",
          "text": [
            "Epoch 4:\n",
            "Training Loss = 2.2677489315591206   Validation Loss = 2.111422821879387\n",
            "\n"
          ]
        },
        {
          "output_type": "stream",
          "name": "stderr",
          "text": [
            "100%|██████████| 41/41 [00:40<00:00,  1.01it/s]\n"
          ]
        },
        {
          "output_type": "stream",
          "name": "stdout",
          "text": [
            "Epoch 5:\n",
            "Training Loss = 2.2639458877284353   Validation Loss = 2.1683113425970078\n",
            "\n",
            "------------------------------------\n",
            "\n",
            "Selected stride = 100    Selected Learning_rate = 0.001\n",
            "\n"
          ]
        },
        {
          "output_type": "stream",
          "name": "stderr",
          "text": [
            "  0%|          | 0/41 [00:00<?, ?it/s]Truncation was not explicitly activated but `max_length` is provided a specific value, please use `truncation=True` to explicitly truncate examples to max length. Defaulting to 'longest_first' truncation strategy. If you encode pairs of sequences (GLUE-style) with the tokenizer you can select this strategy more precisely by providing a specific strategy to `truncation`.\n",
            "100%|██████████| 41/41 [00:41<00:00,  1.02s/it]\n"
          ]
        },
        {
          "output_type": "stream",
          "name": "stdout",
          "text": [
            "Epoch 1:\n",
            "Training Loss = 2.4344759481709177   Validation Loss = 2.1162086725234985\n",
            "\n"
          ]
        },
        {
          "output_type": "stream",
          "name": "stderr",
          "text": [
            "100%|██████████| 41/41 [00:40<00:00,  1.01it/s]\n"
          ]
        },
        {
          "output_type": "stream",
          "name": "stdout",
          "text": [
            "Epoch 2:\n",
            "Training Loss = 2.287447408932011   Validation Loss = 2.072997957468033\n",
            "\n"
          ]
        },
        {
          "output_type": "stream",
          "name": "stderr",
          "text": [
            "100%|██████████| 41/41 [00:41<00:00,  1.01s/it]\n"
          ]
        },
        {
          "output_type": "stream",
          "name": "stdout",
          "text": [
            "Epoch 3:\n",
            "Training Loss = 2.2045119913612923   Validation Loss = 2.051096647977829\n",
            "\n"
          ]
        },
        {
          "output_type": "stream",
          "name": "stderr",
          "text": [
            "100%|██████████| 41/41 [00:41<00:00,  1.00s/it]\n"
          ]
        },
        {
          "output_type": "stream",
          "name": "stdout",
          "text": [
            "Epoch 4:\n",
            "Training Loss = 2.1353143918805007   Validation Loss = 2.1085850447416306\n",
            "\n",
            "Tuned reader model updated.\n",
            "------------------------------------\n",
            "\n",
            "Selected stride = 100    Selected Learning_rate = 0.0001\n",
            "\n"
          ]
        },
        {
          "output_type": "stream",
          "name": "stderr",
          "text": [
            "  0%|          | 0/41 [00:00<?, ?it/s]Truncation was not explicitly activated but `max_length` is provided a specific value, please use `truncation=True` to explicitly truncate examples to max length. Defaulting to 'longest_first' truncation strategy. If you encode pairs of sequences (GLUE-style) with the tokenizer you can select this strategy more precisely by providing a specific strategy to `truncation`.\n",
            "100%|██████████| 41/41 [00:41<00:00,  1.01s/it]\n"
          ]
        },
        {
          "output_type": "stream",
          "name": "stdout",
          "text": [
            "Epoch 1:\n",
            "Training Loss = 2.552847635455248   Validation Loss = 2.194033235311508\n",
            "\n"
          ]
        },
        {
          "output_type": "stream",
          "name": "stderr",
          "text": [
            "100%|██████████| 41/41 [00:40<00:00,  1.00it/s]\n"
          ]
        },
        {
          "output_type": "stream",
          "name": "stdout",
          "text": [
            "Epoch 2:\n",
            "Training Loss = 2.359352443276382   Validation Loss = 2.140195056796074\n",
            "\n"
          ]
        },
        {
          "output_type": "stream",
          "name": "stderr",
          "text": [
            "100%|██████████| 41/41 [00:41<00:00,  1.00s/it]\n"
          ]
        },
        {
          "output_type": "stream",
          "name": "stdout",
          "text": [
            "Epoch 3:\n",
            "Training Loss = 2.311724217926584   Validation Loss = 2.0917259007692337\n",
            "\n"
          ]
        },
        {
          "output_type": "stream",
          "name": "stderr",
          "text": [
            "100%|██████████| 41/41 [00:41<00:00,  1.00s/it]\n"
          ]
        },
        {
          "output_type": "stream",
          "name": "stdout",
          "text": [
            "Epoch 4:\n",
            "Training Loss = 2.2935649505475673   Validation Loss = 2.1084565222263336\n",
            "\n",
            "------------------------------------\n",
            "\n",
            "Selected stride = 150    Selected Learning_rate = 0.001\n",
            "\n"
          ]
        },
        {
          "output_type": "stream",
          "name": "stderr",
          "text": [
            "  0%|          | 0/41 [00:00<?, ?it/s]Truncation was not explicitly activated but `max_length` is provided a specific value, please use `truncation=True` to explicitly truncate examples to max length. Defaulting to 'longest_first' truncation strategy. If you encode pairs of sequences (GLUE-style) with the tokenizer you can select this strategy more precisely by providing a specific strategy to `truncation`.\n",
            "100%|██████████| 41/41 [00:42<00:00,  1.03s/it]\n"
          ]
        },
        {
          "output_type": "stream",
          "name": "stdout",
          "text": [
            "Epoch 1:\n",
            "Training Loss = 2.435458974140446   Validation Loss = 2.0485027134418488\n",
            "\n"
          ]
        },
        {
          "output_type": "stream",
          "name": "stderr",
          "text": [
            "100%|██████████| 41/41 [00:41<00:00,  1.02s/it]\n"
          ]
        },
        {
          "output_type": "stream",
          "name": "stdout",
          "text": [
            "Epoch 2:\n",
            "Training Loss = 2.3054281211480863   Validation Loss = 2.0561772286891937\n",
            "\n",
            "Tuned reader model updated.\n",
            "------------------------------------\n",
            "\n",
            "Selected stride = 150    Selected Learning_rate = 0.0001\n",
            "\n"
          ]
        },
        {
          "output_type": "stream",
          "name": "stderr",
          "text": [
            "  0%|          | 0/41 [00:00<?, ?it/s]Truncation was not explicitly activated but `max_length` is provided a specific value, please use `truncation=True` to explicitly truncate examples to max length. Defaulting to 'longest_first' truncation strategy. If you encode pairs of sequences (GLUE-style) with the tokenizer you can select this strategy more precisely by providing a specific strategy to `truncation`.\n",
            "100%|██████████| 41/41 [00:42<00:00,  1.03s/it]\n"
          ]
        },
        {
          "output_type": "stream",
          "name": "stdout",
          "text": [
            "Epoch 1:\n",
            "Training Loss = 2.542048221681176   Validation Loss = 2.18615061044693\n",
            "\n"
          ]
        },
        {
          "output_type": "stream",
          "name": "stderr",
          "text": [
            "100%|██████████| 41/41 [00:41<00:00,  1.02s/it]\n"
          ]
        },
        {
          "output_type": "stream",
          "name": "stdout",
          "text": [
            "Epoch 2:\n",
            "Training Loss = 2.347098591851025   Validation Loss = 2.134584456682205\n",
            "\n"
          ]
        },
        {
          "output_type": "stream",
          "name": "stderr",
          "text": [
            "100%|██████████| 41/41 [00:41<00:00,  1.02s/it]\n"
          ]
        },
        {
          "output_type": "stream",
          "name": "stdout",
          "text": [
            "Epoch 3:\n",
            "Training Loss = 2.3102754325401493   Validation Loss = 2.0737644881010056\n",
            "\n"
          ]
        },
        {
          "output_type": "stream",
          "name": "stderr",
          "text": [
            "100%|██████████| 41/41 [00:41<00:00,  1.02s/it]\n"
          ]
        },
        {
          "output_type": "stream",
          "name": "stdout",
          "text": [
            "Epoch 4:\n",
            "Training Loss = 2.2885160824147666   Validation Loss = 2.078025236725807\n",
            "\n",
            "------------------------------------\n",
            "\n"
          ]
        }
      ]
    },
    {
      "cell_type": "code",
      "source": [
        "tuned_stride = 150 # save the tuned stride for subsequent usage in exercise 6)"
      ],
      "metadata": {
        "id": "1CML6BwqgfAR"
      },
      "execution_count": null,
      "outputs": []
    },
    {
      "cell_type": "markdown",
      "source": [
        "### Additional Considerations"
      ],
      "metadata": {
        "id": "-bo6IJtCs1-o"
      }
    },
    {
      "cell_type": "markdown",
      "source": [
        "Performing a sample application of question answering (see below), it can be seen that the dataset itself also contains some noise. Arguably, the predicted answer fits better to the question than the true answer does."
      ],
      "metadata": {
        "id": "cx3rt_VKyx8p"
      }
    },
    {
      "cell_type": "code",
      "source": [
        "ex = subjqa_train[67]\n",
        "print('Question:', ex['question'])\n",
        "print('True Answer:', ex['answers']['text'])\n",
        "\n",
        "tokenized = reader_tokenizer(ex['question'], ex['context'], max_length = 512, stride = 100, return_tensors = \"pt\", pad_to_max_length = True)\n",
        "outputs = reader_model(**tokenized.to(device))\n",
        "start_ind = torch.argmax(outputs.start_logits)\n",
        "end_ind = torch.argmax(outputs.end_logits)\n",
        "print('Predicted:', reader_tokenizer.decode(tokenized['input_ids'][0][start_ind:end_ind +1]))"
      ],
      "metadata": {
        "colab": {
          "base_uri": "https://localhost:8080/"
        },
        "id": "ueVcOKF4FBgi",
        "outputId": "443c4a0e-7d67-4201-ff5a-55444b0b6cae"
      },
      "execution_count": null,
      "outputs": [
        {
          "output_type": "stream",
          "name": "stdout",
          "text": [
            "Question: Does this headphone look better?\n",
            "True Answer: ['mm headphone jack adapter']\n",
            "Predicted: these wireless headphones are really awesome\n"
          ]
        },
        {
          "output_type": "stream",
          "name": "stderr",
          "text": [
            "/usr/local/lib/python3.7/dist-packages/transformers/tokenization_utils_base.py:2257: FutureWarning: The `pad_to_max_length` argument is deprecated and will be removed in a future version, use `padding=True` or `padding='longest'` to pad to the longest sequence in the batch, or use `padding='max_length'` to pad to a max length. In this case, you can give a specific length with `max_length` (e.g. `max_length=45`) or leave max_length to None to pad to the maximal input size of the model (e.g. 512 for Bert).\n",
            "  FutureWarning,\n"
          ]
        }
      ]
    },
    {
      "cell_type": "markdown",
      "source": [
        "## Exercise 6"
      ],
      "metadata": {
        "id": "vSPqn4SeGxkm"
      }
    },
    {
      "cell_type": "code",
      "source": [
        "def normalize_string(s):\n",
        "  s = s.translate(str.maketrans('', '', string.punctuation))\n",
        "  s = \" \".join(s.split())\n",
        "  return s.lower()\n",
        "\n",
        "def F1_score(truth, pred):\n",
        "  if truth == '' and pred == '': # if both present empty strings, this results in a F1-score of one\n",
        "    return 1\n",
        "  else:\n",
        "    truth_s = truth.split()\n",
        "    pred_s = pred.split()\n",
        "    shared_words = len(set(truth_s) & set(pred_s)) # number of shared words\n",
        "    if shared_words > 0:\n",
        "      precision = shared_words / len(pred_s)\n",
        "      recall = shared_words / len(truth_s)\n",
        "      f1 = 2 * (precision * recall) / (precision + recall)\n",
        "      return f1\n",
        "    \n",
        "    else:\n",
        "      return 0"
      ],
      "metadata": {
        "id": "kf5jXdaXkpYY"
      },
      "execution_count": null,
      "outputs": []
    },
    {
      "cell_type": "code",
      "source": [
        "# load the non-finetuned reader model for comparison\n",
        "nonTuned_reader_model = AutoModelForQuestionAnswering.from_pretrained(\"deepset/minilm-uncased-squad2\", cache_dir = data_dir).to(device)"
      ],
      "metadata": {
        "id": "-GRCdqF6q_GW"
      },
      "execution_count": null,
      "outputs": []
    },
    {
      "cell_type": "code",
      "source": [
        "EM_tuned = 0\n",
        "EM_nonTuned = 0\n",
        "F1_tuned = []\n",
        "F1_nonTuned = []\n",
        "\n",
        "# instantiate question answering pipelines\n",
        "pipe_tuned = pipeline('question-answering', model = tuned_reader_model, tokenizer = reader_tokenizer, device = 0)\n",
        "pipe_nonTuned = pipeline('question-answering', model = nonTuned_reader_model, tokenizer = reader_tokenizer, device = 0)\n",
        "\n",
        "for sample in tqdm(subjqa_test):\n",
        "  query = sample['question']\n",
        "  answers = sample['answers']['text']\n",
        "\n",
        "  # use bi-encoder to retrieve top n contexts with highest cosine similaritity\n",
        "  query_emb = bi_encoder_model.encode(query)\n",
        "  cos_similarities = [cos_sim(query_emb, context['embedding']) for context in index_test]\n",
        "  rel_contexts = np.array(cos_similarities).argsort()[-n_best:][::-1] # optimized n from exercise 4)\n",
        "\n",
        "  # use fine-tuned cross-encoder to re-rank those n relevant contexts\n",
        "  scores = []\n",
        "  cross_encoder_model_t.eval()\n",
        "  with torch.no_grad():\n",
        "    for context_id in rel_contexts:\n",
        "      tokenized = cross_encoder_tokenizer(query, \n",
        "                                          index_test[context_id]['context'], \n",
        "                                          truncation = True,\n",
        "                                          max_length = 512, \n",
        "                                          return_tensors = \"pt\", \n",
        "                                          pad_to_max_length = True).to(device)\n",
        "      scores.append(cross_encoder_model_t(**tokenized).logits)\n",
        "\n",
        "  ranked_contexts = np.array(scores).argsort()[-k_best:][::-1] # optimized k from exercise 4)\n",
        "\n",
        "  # only keep the top k contexts after re-ranking\n",
        "  results = [{'context': index_test[rel_contexts[rank]]['context'], 'score': scores[rank]} for rank in ranked_contexts]\n",
        "\n",
        "  # retrieve the predictions of each of these contexts along with the associated scores\n",
        "  predictions_tuned_text = []\n",
        "  predictions_tuned_scores = []\n",
        "  predictions_nonTuned_text = []\n",
        "  predictions_nonTuned_scores = []\n",
        "  for rel_context in results:\n",
        "    # infer the span of the most likely answer using the fine-tuned reader model with the 'question-answering' pipeline\n",
        "    prediction_tuned = pipe_tuned(question = query, context = rel_context['context'], top_k = 1, doc_stride = tuned_stride, max_seq_len = 512, handle_impossible_answer = True)\n",
        "    predictions_tuned_text.append(prediction_tuned['answer'])\n",
        "    predictions_tuned_scores.append(prediction_tuned['score'])\n",
        "\n",
        "    prediction_nonTuned = pipe_nonTuned(question = query, context = rel_context['context'], top_k = 1, doc_stride = tuned_stride, max_seq_len = 512, handle_impossible_answer = True)\n",
        "    predictions_nonTuned_text.append(prediction_tuned['answer'])\n",
        "    predictions_nonTuned_scores.append(prediction_tuned['score'])\n",
        "\n",
        "  # among these k predictions, the one with the highest score (probabilitity) is selected and subsequently evaluated\n",
        "  answer_sel_tuned = predictions_tuned_text[np.argmax(np.array(predictions_tuned_scores))]\n",
        "  answer_sel_nonTuned = predictions_nonTuned_text[np.argmax(np.array(predictions_nonTuned_scores))]\n",
        "  \n",
        "  # instantiate metrics for this example\n",
        "  EM_tuned_found = False\n",
        "  EM_nonTuned_found = False\n",
        "  f1_tuned_scores = []\n",
        "  f1_nonTuned_scores = []\n",
        "\n",
        "  # normalise the predictions and label by removing punctuation, fixing whitespace, and converting to lowercase\n",
        "  result_tuned = normalize_string(answer_sel_tuned)\n",
        "  result_nonTuned = normalize_string(answer_sel_nonTuned)\n",
        "\n",
        "  # iterate through all exisiting true answers\n",
        "  range_answers = len(answers) if len(answers) > 0 else 1\n",
        "\n",
        "  for i in range(range_answers):\n",
        "    try:\n",
        "      answer = normalize_string(answers[i])\n",
        "    except IndexError: # if unanswerable question: the correct answer is ''\n",
        "      answer = ''\n",
        "\n",
        "\n",
        "    # Evaluate the performance of the whole pipeline on the EM and F1-score metrics\n",
        "    # EM\n",
        "    if result_tuned == answer or (result_tuned == '' and answer == ''):\n",
        "      EM_tuned_found = True\n",
        "\n",
        "    if result_nonTuned == answer or (result_nonTuned == '' and answer == ''):\n",
        "      EM_nonTuned_found = True\n",
        "\n",
        "    # F1\n",
        "    f1_tuned_scores.append(F1_score(answer, result_tuned))\n",
        "    f1_nonTuned_scores.append(F1_score(answer, result_nonTuned))\n",
        "\n",
        "\n",
        "  # if we have several answers, the EM score is equal to one if one of the answers has been exactly predicted\n",
        "  if EM_tuned_found:\n",
        "    EM_tuned += 1\n",
        "  if EM_nonTuned_found:\n",
        "    EM_nonTuned += 1\n",
        "\n",
        "  # if we have several answers, the highest F1 score among those answers is selected\n",
        "  F1_tuned.append(max(f1_tuned_scores))\n",
        "  F1_nonTuned.append(max(f1_nonTuned_scores))"
      ],
      "metadata": {
        "colab": {
          "base_uri": "https://localhost:8080/"
        },
        "id": "gd6-BmIqFbdz",
        "outputId": "0b7b9804-8ddc-40ad-ad46-99711b88b5c2"
      },
      "execution_count": null,
      "outputs": [
        {
          "output_type": "stream",
          "name": "stderr",
          "text": [
            "\r  0%|          | 0/358 [00:00<?, ?it/s]/usr/local/lib/python3.7/dist-packages/transformers/tokenization_utils_base.py:2257: FutureWarning: The `pad_to_max_length` argument is deprecated and will be removed in a future version, use `padding=True` or `padding='longest'` to pad to the longest sequence in the batch, or use `padding='max_length'` to pad to a max length. In this case, you can give a specific length with `max_length` (e.g. `max_length=45`) or leave max_length to None to pad to the maximal input size of the model (e.g. 512 for Bert).\n",
            "  FutureWarning,\n",
            "/usr/local/lib/python3.7/dist-packages/numpy/core/_asarray.py:83: VisibleDeprecationWarning: Creating an ndarray from ragged nested sequences (which is a list-or-tuple of lists-or-tuples-or ndarrays with different lengths or shapes) is deprecated. If you meant to do this, you must specify 'dtype=object' when creating the ndarray\n",
            "  return array(a, dtype, copy=False, order=order)\n",
            "/usr/local/lib/python3.7/dist-packages/transformers/pipelines/base.py:978: UserWarning: You seem to be using the pipelines sequentially on GPU. In order to maximize efficiency please use a dataset\n",
            "  UserWarning,\n",
            "100%|██████████| 358/358 [07:43<00:00,  1.30s/it]\n"
          ]
        }
      ]
    },
    {
      "cell_type": "code",
      "source": [
        "# comparison of results with non fine-tuned reader model\n",
        "print(f\"Average EM score of the finetuned reader model: {EM_tuned / len(subjqa_test)}\")\n",
        "print(f\"Average EM score of the non-finetuned reader model: {EM_nonTuned / len(subjqa_test)}\\n\")\n",
        "\n",
        "print(f\"Average F1 score of the finetuned reader model: {np.mean(F1_tuned)}\")\n",
        "print(f\"Average F1 score of the non-finetuned reader model: {np.mean(F1_nonTuned)}\\n\")\n",
        "\n",
        "# plot results\n",
        "x = np.arange(2) \n",
        "width = 0.2\n",
        "plt.figure(figsize=(15, 8))\n",
        "plt.bar(x-0.2, [EM_tuned / len(subjqa_test), np.mean(F1_tuned)], width, color='blue') \n",
        "plt.bar(x+0.2, [EM_nonTuned / len(subjqa_test), np.mean(F1_nonTuned)], width, color='red') \n",
        "plt.xticks(x, ['Exact Match (EM)', 'F1-Score']) \n",
        "plt.xlabel(\"Metric\") \n",
        "plt.ylabel(\"Performance\") \n",
        "plt.legend([\"Fine-tuned reader model\", \"Non fine-tuned reader model\"]) \n",
        "plt.show()"
      ],
      "metadata": {
        "colab": {
          "base_uri": "https://localhost:8080/",
          "height": 601
        },
        "id": "dIaRoiGWhVlq",
        "outputId": "aff26e1c-8eae-4a10-e5ad-23cf909d8806"
      },
      "execution_count": null,
      "outputs": [
        {
          "output_type": "stream",
          "name": "stdout",
          "text": [
            "Average EM score of the finetuned reader model: 0.28212290502793297\n",
            "Average EM score of the non-finetuned reader model: 0.28212290502793297\n",
            "\n",
            "Average F1 score of the finetuned reader model: 0.3704628035223366\n",
            "Average F1 score of the non-finetuned reader model: 0.3704628035223366\n",
            "\n"
          ]
        },
        {
          "output_type": "display_data",
          "data": {
            "image/png": "[encoded data removed]",
            "text/plain": [
              "<Figure size 1080x576 with 1 Axes>"
            ]
          },
          "metadata": {
            "needs_background": "light"
          }
        }
      ]
    },
    {
      "cell_type": "markdown",
      "source": [
        "Evaluating the final results, it can be seen that quite a good performance given the difficulty of the problem and (noisy) dataset at hand was achieved.\n",
        "\n",
        "Interestingly, the results between the fine-tuned and non fine-tuned reader model do not differ at all. This might be the case because the respective predictions (spans) were pretty clear and/or the reader model itself is very stable such that fine-tuning over a few epochs does not alter its predictions.\n",
        "Also, the initial reader model is already fine-tuned on SQuAD 2.0, which might be another contributing factor."
      ],
      "metadata": {
        "id": "UAit9byPFp4-"
      }
    }
  ]
}